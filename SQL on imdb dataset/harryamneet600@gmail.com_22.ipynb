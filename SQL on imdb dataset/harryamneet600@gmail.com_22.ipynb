{
 "cells": [
  {
   "cell_type": "code",
   "execution_count": 1,
   "metadata": {},
   "outputs": [
    {
     "name": "stdout",
     "output_type": "stream",
     "text": [
      "databse\n"
     ]
    }
   ],
   "source": [
    "print('databse')\n"
   ]
  },
  {
   "cell_type": "code",
   "execution_count": 2,
   "metadata": {},
   "outputs": [],
   "source": [
    "import pandas as pd\n",
    "import sqlite3\n",
    "conn = sqlite3.connect(\"C:/Users/HARRY/Desktop/ML/Applied ai/Assinments/22 assinment/Db-IMDB.db\")\n"
   ]
  },
  {
   "cell_type": "markdown",
   "metadata": {},
   "source": [
    "#                    (  SQL ) ASSINMENT 22"
   ]
  },
  {
   "cell_type": "markdown",
   "metadata": {},
   "source": [
    "# 1."
   ]
  },
  {
   "cell_type": "markdown",
   "metadata": {},
   "source": [
    "List all the directors who directed a 'Comedy' movie in a leap year. (You need to check that the genre is 'Comedy’ and year is a leap year) Your query should return director name, the movie name, and the year. "
   ]
  },
  {
   "cell_type": "code",
   "execution_count": null,
   "metadata": {},
   "outputs": [],
   "source": [
    "#https://www.sqlbook.com/sql-string-functions/sql-trim-functions-purpose-syntax-and-common-uses/\n",
    "#https://github.com/jasonMatney/SQLWork/blob/master/wash.sql\n",
    "# left join because we want all the directors \n",
    "sql_query = \"\"\"\n",
    "\n",
    "\n",
    "  SELECT  p.Name,m.title,m.year   FROM Person p \n",
    "  LEFT JOIN M_Director c ON LTRIM(c.PID)=LTRIM(p.PID)\n",
    "  LEFT JOIN Movie m ON c.MID=m.MID  \n",
    "  LEFT JOIN M_Genre mg ON m.MID=mg.MID \n",
    "  LEFT JOIN Genre g ON mg.GID=g.GID\n",
    "  GROUP BY p.PID having (((m.year % 4 = 0 and m.year % 100 <> 0) OR m.year % 400 = 0)) AND LTRIM(RTRIM((replace(g.Name, ',', '') )))='Comedy' \n",
    "\n",
    "\n",
    "\n",
    "  \n",
    "\"\"\"\n",
    "df= pd.read_sql_query(sql_query, conn)\n",
    "df"
   ]
  },
  {
   "cell_type": "markdown",
   "metadata": {},
   "source": [
    "# 2."
   ]
  },
  {
   "cell_type": "markdown",
   "metadata": {},
   "source": [
    "List the names of all the actors who played in the movie 'Anand' (1971) "
   ]
  },
  {
   "cell_type": "code",
   "execution_count": null,
   "metadata": {},
   "outputs": [],
   "source": [
    "#(((m.year % 4 = 0 and m.year % 100 <> 0) OR m.year % 400 = 0))\n",
    "sql_query = \"\"\"\n",
    "  \n",
    "  SELECT Name FROM Person WHERE PID IN \n",
    "  (SELECT LTRIM(c.PID) FROM M_cast c \n",
    "  JOIN Movie m on c.MID=m.MID WHERE m.title='Anand') \n",
    "  \n",
    "  \n",
    "  \n",
    "  \n",
    "\"\"\"\n",
    "df= pd.read_sql_query(sql_query, conn)\n",
    "df"
   ]
  },
  {
   "cell_type": "markdown",
   "metadata": {},
   "source": [
    "# 3."
   ]
  },
  {
   "cell_type": "markdown",
   "metadata": {},
   "source": [
    "List all the actors who acted in a film before 1970 and in a film after 1990. (That is: < 1970 and > 1990.) \n",
    " "
   ]
  },
  {
   "cell_type": "code",
   "execution_count": null,
   "metadata": {},
   "outputs": [],
   "source": [
    "#For reference\n",
    "#https://github.com/hafizusman/csep544_/blob/master/01Hw/hw1-queries.sql\n",
    "\n",
    "sql_query = \"\"\"\n",
    "  \n",
    " \n",
    "SELECT DISTINCT Name\n",
    "FROM Person AS A, M_cast AS C1, Movie AS M1, M_cast AS C2, Movie AS M2\n",
    "WHERE  LTRIM(A.PID)= LTRIM(C1.PID)           AND C1.MID=M1.MID\n",
    "AND LTRIM(A.PID)= LTRIM(C2.PID)           AND C2.MID=M2.MID\n",
    "AND M1.year < 1970 AND M2.year > 1990 \n",
    "  \n",
    "  \n",
    "  \n",
    "\"\"\"\n",
    "df= pd.read_sql_query(sql_query, conn)\n",
    "df"
   ]
  },
  {
   "cell_type": "markdown",
   "metadata": {},
   "source": [
    "# 4."
   ]
  },
  {
   "cell_type": "markdown",
   "metadata": {},
   "source": [
    "List all directors who directed 10 movies or more, in descending order of the number of movies they directed. Return the directors' names and the number of movies each of them directed"
   ]
  },
  {
   "cell_type": "code",
   "execution_count": null,
   "metadata": {},
   "outputs": [],
   "source": [
    "\n",
    "sql_query = \"\"\"\n",
    "  \n",
    "  SELECT DISTINCT p.Name,count(m.title) ct  FROM Person p \n",
    "  LEFT JOIN M_Director c ON LTRIM(c.PID)=LTRIM(p.PID)\n",
    "  LEFT JOIN Movie m ON c.MID=m.MID\n",
    "  GROUP BY p.PID\n",
    "  HAVING ct>=10\n",
    "  ORDER BY ct DESC \n",
    "  \n",
    "  \n",
    "  \n",
    "  \n",
    "\"\"\"\n",
    "df= pd.read_sql_query(sql_query, conn)\n",
    "df"
   ]
  },
  {
   "cell_type": "markdown",
   "metadata": {},
   "source": [
    "# 5."
   ]
  },
  {
   "cell_type": "markdown",
   "metadata": {},
   "source": [
    "\n",
    "a. For each year, count the number of movies in that year that had only female actors. \n",
    "\n",
    "b. Now include a small change: report for each year the percentage of movies in that year with only female actors, and the total number of movies made that year. For example, one answer will be: 1990 31.81 13522 meaning that in 1990 there were 13,522 movies, and 31.81% had only female actors. You do not need to round your answer. \n",
    " "
   ]
  },
  {
   "cell_type": "code",
   "execution_count": null,
   "metadata": {},
   "outputs": [],
   "source": [
    "#a-------------------------------------------------\n",
    "\n",
    "\n",
    "#https://stackoverflow.com/questions/1400078/is-it-possible-to-specify-condition-in-count\n",
    "# we can use 2 group by i think \n",
    "# problem of duplicates tomorow i'll solve\n",
    "sql_query = \"\"\"\n",
    " SELECT m.year, count(p.Name) as Total FROM Movie m \n",
    " \n",
    " LEFT JOIN M_Cast me ON  m.MID=me.MID      \n",
    " LEFT JOIN Person p ON LTRIM(me.PID)=LTRIM(p.PID)\n",
    " GROUP BY m.year HAVING LTRIM(RTRIM(p.Gender))='Female' \n",
    " \n",
    " \n",
    " \n",
    "\"\"\"\n",
    "df= pd.read_sql_query(sql_query, conn)\n",
    "df"
   ]
  },
  {
   "cell_type": "code",
   "execution_count": null,
   "metadata": {},
   "outputs": [],
   "source": [
    "#b.-----------------------------------------------------------------------------------\n",
    "\n",
    "\n",
    "\n",
    "#https://stackoverflow.com/questions/1400078/is-it-possible-to-specify-condition-in-count\n",
    "sql_query = \n",
    "\"\"\"\n",
    "\n",
    " SELECT m.year, count(p2.Names)/count(p.Names) as Female_percentage,count(p.Names) as Total\n",
    " FROM Movie as m,Movie as m2 \n",
    " \n",
    " LEFT JOIN M_Cast me ON  m.MID=me.MID      \n",
    " LEFT JOIN Person p ON LTRIM(me.PID)=LTRIM(p.PID)\n",
    " \n",
    " LEFT JOIN M_Cast me2 ON  m2.MID=me2.MID      \n",
    " LEFT JOIN Person p2 ON LTRIM(me2.PID)=LTRIM(p2.PID)\n",
    " \n",
    " GROUP BY m.year, GROUP BY m2.year  HAVING LTRIM(RTRIM(p2.Gender))='Female' \n",
    " \n",
    "\"\"\"\n",
    "df= pd.read_sql_query(sql_query, conn)\n",
    "df\n"
   ]
  },
  {
   "cell_type": "markdown",
   "metadata": {},
   "source": [
    "# 6."
   ]
  },
  {
   "cell_type": "markdown",
   "metadata": {},
   "source": [
    "Find the film(s) with the largest cast. Return the movie title and the size of the cast. By \"cast size\" we mean the number of distinct actors that played in that movie: if an actor played multiple roles, or if it simply occurs multiple times in casts, we still count her/him only once. "
   ]
  },
  {
   "cell_type": "code",
   "execution_count": null,
   "metadata": {},
   "outputs": [],
   "source": [
    "#https://stackoverflow.com/questions/1400078/is-it-possible-to-specify-condition-in-count\n",
    "#https://stackoverflow.com/questions/2436820/can-i-do-a-maxcount-in-sql\n",
    "#https://github.com/jasonMatney/SQLWork/blob/master/wash.sql\n",
    "\n",
    "\n",
    "\n",
    "sql_query = \"\"\"\n",
    " \n",
    "\n",
    " SELECT  m.title,COUNT( DISTINCT p.Name)  as Cast_size from Person p\n",
    " LEFT JOIN M_Cast mc ON LTRIM(mc.PID)=LTRIM(p.PID)\n",
    " LEFT JOIN Movie m ON Mc.MID=m.MID\n",
    " GROUP BY m.MID\n",
    " HAVING COUNT(p.Name) =  (SELECT COUNT(p.Name) FROM Person p\n",
    " LEFT JOIN M_Cast mc ON LTRIM(mc.PID)=LTRIM(p.PID)\n",
    " LEFT JOIN Movie m ON Mc.MID=m.MID\n",
    " GROUP BY m.MID ORDER BY COUNT( DISTINCT p.Name) DESC LIMIT 1)\n",
    " \n",
    " \n",
    "\"\"\"\n",
    "df= pd.read_sql_query(sql_query, conn)\n",
    "df"
   ]
  },
  {
   "cell_type": "markdown",
   "metadata": {},
   "source": [
    "# 7."
   ]
  },
  {
   "cell_type": "markdown",
   "metadata": {},
   "source": [
    "A decade is a sequence of 10 consecutive years.\n",
    "For example, say in your database you have movie information starting from 1965\n",
    "\n",
    ". Then the first decade is 1965, 1966, ..., 1974; the second one is 1967, 1968, ..., 1976 and so on.\n",
    "\n",
    "Find the decade D with the largest number of films and the total number of films in D. "
   ]
  },
  {
   "cell_type": "code",
   "execution_count": null,
   "metadata": {},
   "outputs": [],
   "source": [
    "#FOR REFERENCE\n",
    "#https://stackoverflow.com/questions/51609285/sql-query-for-find-the-decade-with-the-largest-number-of-records\n",
    "\n",
    "\n",
    "\n",
    "sql_query = \"\"\"\n",
    " \n",
    "\n",
    "SELECT y.year AS decade_start, y.year + 9 AS decade_end,\n",
    "       count(*) AS num_movies\n",
    "FROM (SELECT DISTINCT year from Movie) y JOIN\n",
    "     Movie m\n",
    "     ON m.year >= y.year AND m.year < y.year + 10\n",
    "GROUP BY y.year\n",
    "ORDER BY count(*) DESC\n",
    "limit 1\n",
    "\n",
    " \n",
    "\"\"\"\n",
    "df= pd.read_sql_query(sql_query, conn)\n",
    "df"
   ]
  },
  {
   "cell_type": "markdown",
   "metadata": {},
   "source": [
    "# 8."
   ]
  },
  {
   "cell_type": "markdown",
   "metadata": {},
   "source": [
    "Find the actors that were never unemployed for more than 3 years at a stretch.\n",
    "(Assume that the actors remain unemployed between two consecutive movies). "
   ]
  },
  {
   "cell_type": "code",
   "execution_count": null,
   "metadata": {},
   "outputs": [],
   "source": [
    "#For reference:\n",
    "#https://www.coursehero.com/file/p7mfaba/15-Find-the-actors-who-were-never-unemployed-for-more-than-3-years-at-a-stretch/\n",
    "\n",
    "sql_query = \"\"\"\n",
    " \n",
    "\n",
    "\n",
    "SELECT  PID, Name FROM Person WHERE PID NOT in \n",
    "(\n",
    "SELECT DISTINCT PID FROM M_Cast AS C1 NATURAL JOIN Movie as M1\n",
    "WHERE EXISTS\n",
    "(\n",
    "SELECT MID FROM M_Cast as C2 NATURAL JOIN Movie as M2\n",
    "\n",
    "WHERE  LTRIM(C1.PID) =  LTRIM(C2.PID)     and (M2.year - 3) > M1.year\n",
    "\n",
    "AND NOT EXISTS(SELECT MID FROM M_Cast AS C3 NATURAL JOIN Movie AS \n",
    "\n",
    "M3 WHERE LTRIM(C1.PID) =  LTRIM(C3.PID) AND M1.year < M3.year AND  M3.year < M2.year)))\n",
    "\n",
    "\n",
    " \n",
    "\"\"\"\n",
    "df= pd.read_sql_query(sql_query, conn)\n",
    "df"
   ]
  },
  {
   "cell_type": "markdown",
   "metadata": {},
   "source": [
    "# 9."
   ]
  },
  {
   "cell_type": "markdown",
   "metadata": {},
   "source": [
    "Find all the actors that made more movies with Yash Chopra than any other director. \n",
    " "
   ]
  },
  {
   "cell_type": "code",
   "execution_count": null,
   "metadata": {},
   "outputs": [],
   "source": [
    "#For reference:\n",
    "#https://www.coursehero.com/file/p7mfaba/15-Find-the-actors-who-were-never-unemployed-for-more-than-3-years-at-a-stretch/\n",
    "#https://www.geeksforgeeks.org/sql-with-clause/\n",
    "#https://www.dofactory.com/sql/subquery\n",
    "    \n",
    "sql_query = \"\"\"\n",
    " \n",
    "SELECT   P1.PID,   P1.Name, COUNT (Movie.MID)  AS movies\n",
    "              WITH yc FROM Person as P1\n",
    "             NATURAL JOIN M_Cast NATURAL JOIN Movie \n",
    "JOIN M_Director ON (Movie.MID = M_Director.MID)\n",
    "\n",
    "JOIN Person as P2 ON (M_Director.PID = P2.PID) \n",
    "              WHERE P2.Name = 'Yash Chopra' GROUP BY P1.PID\n",
    "              HAVING COUNT(Movie.MID) >  ALL\n",
    "(SELECT COUNT(Movie.MID) FROM Person AS P3\n",
    "              NATURAL JOIN M_Cast NATURAL JOIN Movie \n",
    "JOIN M_Director ON (Movie.MID = M_Director.MID)\n",
    "JOIN Person AS P4 ON  (M_Director.PID = P4.PID) \n",
    "         WHERE P1.PID = P3.PID AND P4.Name != 'Yash Chopra'\n",
    "        GROUP BY P4.PID)    \n",
    "        ORDER BY movies WITH  yc DESC\n",
    "\n",
    "\"\"\"\n",
    "df= pd.read_sql_query(sql_query, conn)\n",
    "df"
   ]
  },
  {
   "cell_type": "markdown",
   "metadata": {},
   "source": [
    "# 10."
   ]
  },
  {
   "cell_type": "markdown",
   "metadata": {},
   "source": [
    "The Shahrukh number of an actor is the length of the shortest path between the actor and Shahrukh Khan in the \"co-acting\" graph. That is, Shahrukh Khan has Shahrukh number 0; all actors who acted in the same film as Shahrukh have Shahrukh number 1; all actors who acted in the same film as some actor with Shahrukh number 1 have Shahrukh number 2, etc. Return all actors whose Shahrukh number is 2. \n",
    " \n",
    " "
   ]
  },
  {
   "cell_type": "code",
   "execution_count": null,
   "metadata": {},
   "outputs": [],
   "source": [
    "#For reference:\n",
    "#https://www.coursehero.com/file/p7mfaba/15-Find-the-actors-who-were-never-unemployed-for-more-than-3-years-at-a-stretch/\n",
    "#https://www.geeksforgeeks.org/sql-with-clause/\n",
    "#https://www.dofactory.com/sql/subquery\n",
    "    \n",
    "\n",
    "sql_query = \"\"\"\n",
    " \n",
    "\n",
    "\n",
    "SELECT DISTINCT  PID, Name FROM Person \n",
    "             NATURAL JOIN M_Cast \n",
    "             WHERE Name <> 'Shah Rukh Khan'\n",
    "AND MID IN (SELECT MID FROM M_Cast WHERE PID IN \n",
    "(SELECT PID FROM Person NATURAL JOIN \n",
    " M_Cast WHERE Name <> 'Shah Rukh Khan' AND MID IN\n",
    " (SELECT  MID FROM Person NATURAL \n",
    " JOIN M_Cast \n",
    " WHERE Name = 'Shah Rukh Khan')))\n",
    " AND PID NOT IN \n",
    " (SELECT PID FROM Person \n",
    " NATURAL JOIN M_Cast\n",
    " WHERE Name <> 'Shah Rukh Khan'\n",
    " AND MID IN (SELECT MID FROM Person \n",
    " NATURAL JOIN M_Cast WHERE Name = 'Shah Rukh Khan'))\n",
    "\n",
    "\n",
    "\n",
    "\n",
    "\n",
    "\n",
    "\n",
    "\n",
    "\"\"\"\n",
    "df= pd.read_sql_query(sql_query, conn)\n",
    "df"
   ]
  }
 ],
 "metadata": {
  "kernelspec": {
   "display_name": "Python 3",
   "language": "python",
   "name": "python3"
  },
  "language_info": {
   "codemirror_mode": {
    "name": "ipython",
    "version": 3
   },
   "file_extension": ".py",
   "mimetype": "text/x-python",
   "name": "python",
   "nbconvert_exporter": "python",
   "pygments_lexer": "ipython3",
   "version": "3.7.3"
  }
 },
 "nbformat": 4,
 "nbformat_minor": 2
}
