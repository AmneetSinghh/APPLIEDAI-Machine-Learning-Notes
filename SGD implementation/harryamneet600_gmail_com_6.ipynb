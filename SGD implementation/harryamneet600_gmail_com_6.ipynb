{
  "nbformat": 4,
  "nbformat_minor": 0,
  "metadata": {
    "colab": {
      "name": "harryamneet600_gmail_com_6.ipynb",
      "version": "0.3.2",
      "provenance": [],
      "collapsed_sections": []
    },
    "kernelspec": {
      "name": "python3",
      "display_name": "Python 3"
    }
  },
  "cells": [
    {
      "cell_type": "code",
      "metadata": {
        "id": "REYPoTJ1Af7u",
        "colab_type": "code",
        "colab": {}
      },
      "source": [
        "import warnings\n",
        "warnings.filterwarnings(\"ignore\")\n",
        "from sklearn.datasets import load_boston\n",
        "from random import seed\n",
        "from random import randrange\n",
        "from csv import reader\n",
        "from math import sqrt\n",
        "from sklearn.preprocessing import StandardScaler\n",
        "import pandas as pd\n",
        "import numpy as np\n",
        "import matplotlib.pyplot as plt\n",
        "from prettytable import PrettyTable\n",
        "from sklearn.linear_model import SGDRegressor\n",
        "from sklearn import preprocessing\n",
        "from sklearn.metrics import mean_squared_error\n",
        "import sklearn\n",
        "from sklearn.model_selection import train_test_split"
      ],
      "execution_count": 0,
      "outputs": []
    },
    {
      "cell_type": "markdown",
      "metadata": {
        "id": "5n8NbeDqenAB",
        "colab_type": "text"
      },
      "source": [
        "# (6th Assinment) Implementation of SGD\n",
        "\n",
        "---\n",
        "\n"
      ]
    },
    {
      "cell_type": "markdown",
      "metadata": {
        "id": "4JypS0MyL1oU",
        "colab_type": "text"
      },
      "source": [
        "** - > using sklean sgd**\n",
        "\n",
        "---\n",
        "\n"
      ]
    },
    {
      "cell_type": "markdown",
      "metadata": {
        "id": "m1Oy-MeOh0y7",
        "colab_type": "text"
      },
      "source": [
        "**Get the data**\n",
        "\n",
        "---\n",
        "\n"
      ]
    },
    {
      "cell_type": "code",
      "metadata": {
        "id": "NTQ2iH-kAwbo",
        "colab_type": "code",
        "outputId": "e804ed9c-e0f9-463f-d120-84fb186c91b6",
        "colab": {
          "base_uri": "https://localhost:8080/",
          "height": 34
        }
      },
      "source": [
        "boston = load_boston()\n",
        "boston.data.shape"
      ],
      "execution_count": 173,
      "outputs": [
        {
          "output_type": "execute_result",
          "data": {
            "text/plain": [
              "(506, 13)"
            ]
          },
          "metadata": {
            "tags": []
          },
          "execution_count": 173
        }
      ]
    },
    {
      "cell_type": "code",
      "metadata": {
        "id": "FgUW39s6Be0U",
        "colab_type": "code",
        "outputId": "07e47924-343c-4f47-dce3-a163903e2629",
        "colab": {
          "base_uri": "https://localhost:8080/",
          "height": 50
        }
      },
      "source": [
        "columnNames = boston.feature_names\n",
        "print(columnNames)\n",
        "Data = pd.DataFrame(boston.data, columns = columnNames)"
      ],
      "execution_count": 174,
      "outputs": [
        {
          "output_type": "stream",
          "text": [
            "['CRIM' 'ZN' 'INDUS' 'CHAS' 'NOX' 'RM' 'AGE' 'DIS' 'RAD' 'TAX' 'PTRATIO'\n",
            " 'B' 'LSTAT']\n"
          ],
          "name": "stdout"
        }
      ]
    },
    {
      "cell_type": "code",
      "metadata": {
        "id": "HNu1sXtEBBS2",
        "colab_type": "code",
        "outputId": "dd38c82c-12db-4bdb-b8b8-ba9ebe645137",
        "colab": {
          "base_uri": "https://localhost:8080/",
          "height": 34
        }
      },
      "source": [
        "Data_Labels = boston.target\n",
        "Data_Labels.shape\n",
        "#print(Data_Labels)"
      ],
      "execution_count": 175,
      "outputs": [
        {
          "output_type": "execute_result",
          "data": {
            "text/plain": [
              "(506,)"
            ]
          },
          "metadata": {
            "tags": []
          },
          "execution_count": 175
        }
      ]
    },
    {
      "cell_type": "code",
      "metadata": {
        "id": "Afr9YqKt-AAy",
        "colab_type": "code",
        "outputId": "44c42e60-951f-48d1-abe1-a0f31ed0f27e",
        "colab": {
          "base_uri": "https://localhost:8080/",
          "height": 118
        }
      },
      "source": [
        "Data[\"PRICE\"] = Data_Labels\n",
        "print(Data.shape)\n",
        "print(Data.head(2))"
      ],
      "execution_count": 176,
      "outputs": [
        {
          "output_type": "stream",
          "text": [
            "(506, 14)\n",
            "      CRIM    ZN  INDUS  CHAS    NOX  ...    TAX  PTRATIO      B  LSTAT  PRICE\n",
            "0  0.00632  18.0   2.31   0.0  0.538  ...  296.0     15.3  396.9   4.98   24.0\n",
            "1  0.02731   0.0   7.07   0.0  0.469  ...  242.0     17.8  396.9   9.14   21.6\n",
            "\n",
            "[2 rows x 14 columns]\n"
          ],
          "name": "stdout"
        }
      ]
    },
    {
      "cell_type": "markdown",
      "metadata": {
        "id": "8FB5vkFUhy5F",
        "colab_type": "text"
      },
      "source": [
        "****Replace nan values****\n",
        "\n",
        "---\n",
        "\n"
      ]
    },
    {
      "cell_type": "code",
      "metadata": {
        "id": "gic9XJn5clVt",
        "colab_type": "code",
        "colab": {
          "base_uri": "https://localhost:8080/",
          "height": 34
        },
        "outputId": "6d9965d2-1d3a-4637-f136-16102f0dda49"
      },
      "source": [
        "Data.isnull().sum()\n",
        "Data.isnull().values.any()"
      ],
      "execution_count": 177,
      "outputs": [
        {
          "output_type": "execute_result",
          "data": {
            "text/plain": [
              "False"
            ]
          },
          "metadata": {
            "tags": []
          },
          "execution_count": 177
        }
      ]
    },
    {
      "cell_type": "code",
      "metadata": {
        "id": "dYDqXedGaYx6",
        "colab_type": "code",
        "colab": {
          "base_uri": "https://localhost:8080/",
          "height": 34
        },
        "outputId": "6c84a701-9d8f-417f-c914-c432cb28032d"
      },
      "source": [
        "Data.apply(lambda x: x.fillna(x.mean()),axis=0)\n",
        "print('done')"
      ],
      "execution_count": 178,
      "outputs": [
        {
          "output_type": "stream",
          "text": [
            "done\n"
          ],
          "name": "stdout"
        }
      ]
    },
    {
      "cell_type": "markdown",
      "metadata": {
        "id": "mhpVH61Basui",
        "colab_type": "text"
      },
      "source": [
        "**Train_test_split**\n",
        "\n",
        "---\n",
        "\n"
      ]
    },
    {
      "cell_type": "code",
      "metadata": {
        "id": "46UImeHS-APo",
        "colab_type": "code",
        "outputId": "e556ff12-7772-4092-c756-63612cd4cb0c",
        "colab": {
          "base_uri": "https://localhost:8080/",
          "height": 235
        }
      },
      "source": [
        "X_train, X_test, Y_train, Y_test = train_test_split(Data, Data[\"PRICE\"],test_size = 0.2)\n",
        "\n",
        "X_train.shape, X_test.shape, Y_train.shape, Y_test.shape\n",
        "print(X_train.head(10))"
      ],
      "execution_count": 205,
      "outputs": [
        {
          "output_type": "stream",
          "text": [
            "         CRIM    ZN  INDUS  CHAS    NOX  ...    TAX  PTRATIO       B  LSTAT  PRICE\n",
            "334   0.03738   0.0   5.19   0.0  0.515  ...  224.0     20.2  389.40   6.75   20.7\n",
            "287   0.03871  52.5   5.32   0.0  0.405  ...  293.0     16.6  396.90   7.14   23.2\n",
            "164   2.24236   0.0  19.58   0.0  0.605  ...  403.0     14.7  395.11  11.64   22.7\n",
            "225   0.52693   0.0   6.20   0.0  0.504  ...  307.0     17.4  382.00   4.63   50.0\n",
            "444  12.80230   0.0  18.10   0.0  0.740  ...  666.0     20.2  240.52  23.79   10.8\n",
            "299   0.05561  70.0   2.24   0.0  0.400  ...  358.0     14.8  371.58   4.74   29.0\n",
            "159   1.42502   0.0  19.58   0.0  0.871  ...  403.0     14.7  364.31   7.39   23.3\n",
            "289   0.04297  52.5   5.32   0.0  0.405  ...  293.0     16.6  371.72   9.51   24.8\n",
            "70    0.08826   0.0  10.81   0.0  0.413  ...  305.0     19.2  383.73   6.72   24.2\n",
            "84    0.05059   0.0   4.49   0.0  0.449  ...  247.0     18.5  396.90   9.62   23.9\n",
            "\n",
            "[10 rows x 14 columns]\n"
          ],
          "name": "stdout"
        }
      ]
    },
    {
      "cell_type": "code",
      "metadata": {
        "id": "yIv6XAwBc5i4",
        "colab_type": "code",
        "colab": {
          "base_uri": "https://localhost:8080/",
          "height": 34
        },
        "outputId": "b44f46ee-c838-49f2-b752-ff58de74d853"
      },
      "source": [
        "Y_train.isnull().sum()"
      ],
      "execution_count": 206,
      "outputs": [
        {
          "output_type": "execute_result",
          "data": {
            "text/plain": [
              "0"
            ]
          },
          "metadata": {
            "tags": []
          },
          "execution_count": 206
        }
      ]
    },
    {
      "cell_type": "markdown",
      "metadata": {
        "id": "BD8rChYNLwPL",
        "colab_type": "text"
      },
      "source": [
        "# use our implementation of the sgd"
      ]
    },
    {
      "cell_type": "markdown",
      "metadata": {
        "id": "YDquApmvwJQl",
        "colab_type": "text"
      },
      "source": [
        "**Implementation of  Stochastic Gradient Descent by taking 10 random samples**\n",
        "\n",
        "---\n",
        "\n"
      ]
    },
    {
      "cell_type": "markdown",
      "metadata": {
        "id": "ciPT6hFdXQwb",
        "colab_type": "text"
      },
      "source": [
        "1.**First Standadize the data**\n",
        "\n",
        "---\n",
        "\n"
      ]
    },
    {
      "cell_type": "code",
      "metadata": {
        "id": "X-bTHbDoPOJQ",
        "colab_type": "code",
        "colab": {}
      },
      "source": [
        "from sklearn import preprocessing\n",
        "scaler=preprocessing.StandardScaler()\n",
        "std_scale = scaler.fit(X_train[['CRIM', 'ZN','INDUS','CHAS','NOX','RM','AGE','DIS','RAD','TAX','PTRATIO','B','LSTAT']])\n",
        "\n",
        "train_standadized= std_scale.transform(X_train[['CRIM', 'ZN','INDUS','CHAS','NOX','RM','AGE','DIS','RAD','TAX','PTRATIO','B','LSTAT']])\n",
        "\n",
        "test_standadized= std_scale.transform(X_test[['CRIM', 'ZN','INDUS','CHAS','NOX','RM','AGE','DIS','RAD','TAX','PTRATIO','B','LSTAT']])\n"
      ],
      "execution_count": 0,
      "outputs": []
    },
    {
      "cell_type": "code",
      "metadata": {
        "id": "YzKDDooCVHgG",
        "colab_type": "code",
        "colab": {}
      },
      "source": [
        "X_train_standadized = pd.DataFrame(train_standadized, columns = columnNames)\n",
        "X_test_standadized = pd.DataFrame(test_standadized, columns = columnNames)\n",
        "# X_train_standadized['PRICE']=X_train['PRICE']\n",
        "# test_standadized['PRICE']=X_test['PRICE']\n",
        "# print(X_train_standadized.head(2))"
      ],
      "execution_count": 0,
      "outputs": []
    },
    {
      "cell_type": "code",
      "metadata": {
        "id": "2xB_PQLFfBEy",
        "colab_type": "code",
        "colab": {}
      },
      "source": [
        "Y_train=np.array(Y_train)\n",
        "Y_test=np.array(Y_test)"
      ],
      "execution_count": 0,
      "outputs": []
    },
    {
      "cell_type": "code",
      "metadata": {
        "id": "Z0tMZVGMffc_",
        "colab_type": "code",
        "colab": {
          "base_uri": "https://localhost:8080/",
          "height": 538
        },
        "outputId": "e5e9edcc-7301-4a1f-b51e-19fc4b3b83d5"
      },
      "source": [
        "print(Y_train)\n",
        "print(Y_train.shape)\n",
        "print(X_train_standadized.shape)"
      ],
      "execution_count": 210,
      "outputs": [
        {
          "output_type": "stream",
          "text": [
            "[20.7 23.2 22.7 50.  10.8 29.  23.3 24.8 24.2 23.9 10.9 21.7 43.5 20.3\n",
            " 18.7 36.2 26.6 14.1 14.9 42.8 20.1 16.1 25.3 24.1 19.8 23.2 13.4 22.6\n",
            " 25.  21.9 18.1  7.2  5.  21.7 18.8 17.3 25.2 20.8 20.5 36.  27.1 21.4\n",
            " 30.1 24.6 28.7 18.9 14.5 23.  20.  24.3 13.2 14.5 19.5 27.5 27.5 10.9\n",
            " 20.1 24.5 48.8 21.2 35.2 23.1 20.6 29.  14.4  8.3  9.5 20.3 17.7 19.6\n",
            " 13.5 12.7 35.4 28.4 29.6 26.2 20.7 50.  19.1 17.2  8.8 26.6 17.5  9.6\n",
            " 33.4 18.8 16.5 46.  15.2 27.1  8.5 48.3 50.  22.6 22.  19.6 19.8 17.8\n",
            " 21.5 22.8 22.9 13.3 24.4 29.4  8.8 13.9 11.9 23.   7.4 21.7  7.2 33.\n",
            " 37.6 23.2 23.9 13.3 23.8 18.5 23.5 27.  16.1 20.8 16.3 13.8 19.3 19.9\n",
            " 15.  18.2 17.5 14.3 27.5 50.  19.1 15.6 10.2  8.7 24.3 15.6 36.4 15.4\n",
            " 16.2 15.4 20.4 19.4 10.2 17.6 13.1 24.7 23.1 20.2 21.2 33.2 34.6 20.3\n",
            " 22.5 17.8 19.1 17.5 23.7 18.2 21.   7.5 19.6 19.8 24.  36.5 18.7 22.2\n",
            " 34.9 34.9 19.4 36.2 13.5 37.2  5.  16.1 24.8 21.9 23.  50.  32.9 28.5\n",
            " 20.1 28.  16.4 11.7 23.1 27.9 23.1 28.7 22.5 21.9 43.1 18.3 14.3 22.\n",
            " 19.9 24.5 24.3 21.1 29.1 15.1 17.8 11.  31.5 16.5 19.2 23.7 34.7 25.1\n",
            " 17.  25.  17.9 35.4 15.6 29.1 21.  25.  19.  16.6 20.9 27.9 14.5 21.2\n",
            " 37.  11.7 21.4 15.   8.5 21.4 20.  44.  19.3 24.7 30.5 33.1 19.  18.5\n",
            " 20.5 24.1 31.7 20.6 30.7 20.3  7.2 21.7 12.1 21.2 11.3 12.3 24.4 22.6\n",
            " 30.3 23.  20.4 10.2 22.  36.1 10.4 12.5 33.8  7.  22.3 21.1 15.2 19.3\n",
            " 23.3 14.8 18.4 33.1  9.7 22.8 22.8 18.2 18.6 13.8 13.8 14.9 17.8 39.8\n",
            " 20.1 14.9 50.  20.6 25.  50.  10.4 18.  22.9 20.5 24.8 13.3 13.  14.1\n",
            " 15.7 21.6 21.4 23.8 22.2 23.1 21.2 31.6 33.4  5.6 50.  21.7 23.9 15.6\n",
            " 18.9 20.6 23.9  8.1 21.7 22.6 32.2 11.8 14.1 15.2 23.4 20.  22.4 17.1\n",
            "  8.4 35.1 25.  14.  50.   8.4 13.4 23.8 21.5 24.8 19.7 21.7 25.  16.7\n",
            " 22.3 23.2 13.1 19.7 18.9 26.4 18.5 26.7 20.6 48.5 13.9 22.9 26.5 23.1\n",
            " 19.5 17.4 22.4 15.  29.8 31.1 12.7 19.4 11.8 16.6 18.6 19.4 20.8 23.6\n",
            " 23.3 21.6 17.1 19.5 23.8 11.9 23.9 22.7 20.1 28.1 24.4 38.7 24.1 22.2\n",
            " 22.5 18.4 32.7 22.9 29.8 20.9 24.7 20.2  6.3 22.6 45.4 23.3 32.4 46.7\n",
            " 24.6 23.4 21.  21.8 42.3 31.5 19.5 22.  28.6 17.2 32.  50. ]\n",
            "(404,)\n",
            "(404, 13)\n"
          ],
          "name": "stdout"
        }
      ]
    },
    {
      "cell_type": "code",
      "metadata": {
        "id": "YvHV50MBW9qa",
        "colab_type": "code",
        "colab": {}
      },
      "source": [
        "X_train_standadized['PRICE']=Y_train\n",
        "X_test_standadized['PRICE']=Y_test"
      ],
      "execution_count": 0,
      "outputs": []
    },
    {
      "cell_type": "code",
      "metadata": {
        "id": "4_oPjtMLXuFv",
        "colab_type": "code",
        "colab": {
          "base_uri": "https://localhost:8080/",
          "height": 50
        },
        "outputId": "38a3034e-86d1-4a95-c3d2-a0437e261b80"
      },
      "source": [
        "print(X_train_standadized.shape)\n",
        "print(X_test_standadized.shape)"
      ],
      "execution_count": 212,
      "outputs": [
        {
          "output_type": "stream",
          "text": [
            "(404, 14)\n",
            "(102, 14)\n"
          ],
          "name": "stdout"
        }
      ]
    },
    {
      "cell_type": "code",
      "metadata": {
        "id": "wXJQImP1a_p5",
        "colab_type": "code",
        "colab": {
          "base_uri": "https://localhost:8080/",
          "height": 269
        },
        "outputId": "0e704b97-34e3-4205-99bb-7fe5f803e970"
      },
      "source": [
        "# X_train_standadized.isnull()\n",
        "# X_train_standadized.fillna(X_train_standadized.mean())\n",
        "X_train_standadized.isnull().sum()"
      ],
      "execution_count": 214,
      "outputs": [
        {
          "output_type": "execute_result",
          "data": {
            "text/plain": [
              "CRIM       0\n",
              "ZN         0\n",
              "INDUS      0\n",
              "CHAS       0\n",
              "NOX        0\n",
              "RM         0\n",
              "AGE        0\n",
              "DIS        0\n",
              "RAD        0\n",
              "TAX        0\n",
              "PTRATIO    0\n",
              "B          0\n",
              "LSTAT      0\n",
              "PRICE      0\n",
              "dtype: int64"
            ]
          },
          "metadata": {
            "tags": []
          },
          "execution_count": 214
        }
      ]
    },
    {
      "cell_type": "markdown",
      "metadata": {
        "id": "_zKTJqmbXXEx",
        "colab_type": "text"
      },
      "source": [
        "**Sgd**\n",
        "\n",
        "---\n",
        "\n"
      ]
    },
    {
      "cell_type": "code",
      "metadata": {
        "id": "O_T78VSgL0MR",
        "colab_type": "code",
        "outputId": "4a569c52-b229-4503-9284-d6876c67471a",
        "colab": {
          "base_uri": "https://localhost:8080/",
          "height": 134
        }
      },
      "source": [
        "# for references\n",
        "#https://github.com/gauravtheP/Implementing-Stochastic-Gradient-Descent/blob/master/LinearRegression_SGD_BostonHomePrices.ipynb\n",
        "\n",
        "\n",
        "#First step initilize the weights and b\n",
        "#formla of slope s=mx+b.\n",
        "# mx is the weights*x1....weights_d*xd\n",
        "# b is the intercept term\n",
        "\n",
        "m = X_train.shape[0]\n",
        "weight = np.random.randn(13)*np.sqrt(2/m)   # defining initial random weight from normal distribution\n",
        "b = np.random.randn(1)*np.sqrt(2/m)   # generating initial random y-intercept from normal distribution\n",
        "\n",
        "# initilize learing rate\n",
        "learningRate = 0.2\n",
        "print(m,weight,b,learningRate)\n",
        "\n",
        "\n",
        "\n",
        "for i in range(2000):    # running 2000 iterations\n",
        "    Data_batch_10 = X_train_standadized.sample(n = 10)   # taking 10 stochastic samples\n",
        "    X_temp = Data_batch_10.drop(\"PRICE\", axis = 1, inplace = False)    # DROP the price label, because this is the output label we have to predict. \n",
        "    #X = pd.DataFrame(X_temp, columns = columnNames)\n",
        "    X=X_temp\n",
        "    Y = Data_batch_10[\"PRICE\"]\n",
        "    PartialGradient = np.empty(13)# in this we store the partial derivate with respect to w...we have 13 features\n",
        "    sum2 = 0\n",
        "    \n",
        "    # Update the weights-------------------------------\n",
        "    \n",
        "    # formula  (w0=w1-lr*derivate)in every iteration\n",
        "    # step 1.\n",
        "    #First calculate the derivative \n",
        "    \n",
        "    for j in range(13):     # as there are 13 dimensions in our dataset and dimensions of weight should also be same as dimension of our dataset\n",
        "        sum1 = 0\n",
        "        for k in range(10):\n",
        "            sum1 += -2 * X.iloc[k][j] * (Y.iloc[k] - np.dot(weight, X.iloc[k]) - b)  # this is a derivative of linear regression w.r.t 'w\n",
        "        PartialGradient[j] = sum1\n",
        "        \n",
        "    # step 2. \n",
        "    \n",
        "    #multiply with learning rate\n",
        "    PartialGradient *= learningRate\n",
        "\n",
        "\n",
        "    #step 3.\n",
        "    #Update the weights\n",
        "  \n",
        "    for l in range(13):\n",
        "        weight[l] -= PartialGradient[l]  # updating weights\n",
        "        \n",
        "    \n",
        "    \n",
        "    # Update the Intercepts or (b's)-------------------------------\n",
        "        \n",
        "    for m in range(10):\n",
        "        sum2 += -2 * (Y.iloc[m]- np.dot(weight, X.iloc[m]) - b)     # this is the derivative of linear regression w.r.t 'b'\n",
        "    b = b - learningRate * sum2       #updating y-intercept 'b'\n",
        "    \n",
        "\n",
        "    # in every iteration u have to reduce the learing rate bro\n",
        "    learningRate = 0.01 / pow(i+1, 0.25)     #learning rate at every iteration\n",
        "    \n",
        "    \n",
        "    # just add the regularization term to it\n",
        "    \n",
        "    weight = weight + 0.0001*np.dot(weight, weight)   #adding l2 regularization\n",
        "    b = b + 0.0001*np.dot(weight, weight) #adding L2 regularization\n",
        "\n",
        "print(\"Weight = \"+str(weight))\n",
        "print(\"b = \"+str(b))"
      ],
      "execution_count": 216,
      "outputs": [
        {
          "output_type": "stream",
          "text": [
            "404 [-0.05070079  0.0712384   0.08144204  0.07292133  0.08974328 -0.02311549\n",
            "  0.05826553  0.06273903  0.03671033  0.08477603 -0.03625468 -0.01312975\n",
            "  0.02192867] [0.05113992] 0.2\n",
            "Weight = [-0.37323154  1.12154017  0.33532632  0.9809546  -1.56284412  2.96585827\n",
            "  0.2735731  -2.06909773  2.44753151 -2.04799992 -1.92889464  1.37829867\n",
            " -3.571989  ]\n",
            "b = [22.50551]\n"
          ],
          "name": "stdout"
        }
      ]
    },
    {
      "cell_type": "code",
      "metadata": {
        "id": "M_YsRa7miQlf",
        "colab_type": "code",
        "colab": {}
      },
      "source": [
        "# time for testdata.. with our updated weights and coeffcients\n",
        "\n",
        "import math\n",
        "test_temp = X_test_standadized.drop(\"PRICE\", axis = 1, inplace = False)\n",
        "test_data = test_temp\n",
        "test_labels = Y_test\n",
        "y_predicted = []\n",
        "\n",
        "\n",
        "for i in range(102):\n",
        "    test_i = 0\n",
        "    test_i = np.dot(weight, test_data.iloc[i]) + b[0]  #making prediction by using optimize values of weights obtained from SGD\n",
        "    y_predicted.append(test_i)\n",
        "    \n"
      ],
      "execution_count": 0,
      "outputs": []
    },
    {
      "cell_type": "code",
      "metadata": {
        "id": "_0kTgMpOsXuv",
        "colab_type": "code",
        "outputId": "b2db97da-da7d-4b2b-bd30-86aedbb88f8b",
        "colab": {
          "base_uri": "https://localhost:8080/",
          "height": 1882
        }
      },
      "source": [
        "#Make the preditions  \n",
        "\n",
        "\n",
        "d1 = {'True Labels': Y_test, 'Predicted Labels': y_predicted}\n",
        "df1 = pd.DataFrame(data = d1)\n"
      ],
      "execution_count": 218,
      "outputs": [
        {
          "output_type": "execute_result",
          "data": {
            "text/html": [
              "<div>\n",
              "<style scoped>\n",
              "    .dataframe tbody tr th:only-of-type {\n",
              "        vertical-align: middle;\n",
              "    }\n",
              "\n",
              "    .dataframe tbody tr th {\n",
              "        vertical-align: top;\n",
              "    }\n",
              "\n",
              "    .dataframe thead th {\n",
              "        text-align: right;\n",
              "    }\n",
              "</style>\n",
              "<table border=\"1\" class=\"dataframe\">\n",
              "  <thead>\n",
              "    <tr style=\"text-align: right;\">\n",
              "      <th></th>\n",
              "      <th>True Labels</th>\n",
              "      <th>Predicted Labels</th>\n",
              "    </tr>\n",
              "  </thead>\n",
              "  <tbody>\n",
              "    <tr>\n",
              "      <th>0</th>\n",
              "      <td>37.9</td>\n",
              "      <td>33.334242</td>\n",
              "    </tr>\n",
              "    <tr>\n",
              "      <th>1</th>\n",
              "      <td>17.4</td>\n",
              "      <td>21.800972</td>\n",
              "    </tr>\n",
              "    <tr>\n",
              "      <th>2</th>\n",
              "      <td>32.0</td>\n",
              "      <td>33.397457</td>\n",
              "    </tr>\n",
              "    <tr>\n",
              "      <th>3</th>\n",
              "      <td>21.4</td>\n",
              "      <td>23.868016</td>\n",
              "    </tr>\n",
              "    <tr>\n",
              "      <th>4</th>\n",
              "      <td>24.0</td>\n",
              "      <td>24.482675</td>\n",
              "    </tr>\n",
              "    <tr>\n",
              "      <th>5</th>\n",
              "      <td>10.5</td>\n",
              "      <td>7.064670</td>\n",
              "    </tr>\n",
              "    <tr>\n",
              "      <th>6</th>\n",
              "      <td>32.5</td>\n",
              "      <td>30.260659</td>\n",
              "    </tr>\n",
              "    <tr>\n",
              "      <th>7</th>\n",
              "      <td>16.2</td>\n",
              "      <td>20.378662</td>\n",
              "    </tr>\n",
              "    <tr>\n",
              "      <th>8</th>\n",
              "      <td>13.8</td>\n",
              "      <td>6.204524</td>\n",
              "    </tr>\n",
              "    <tr>\n",
              "      <th>9</th>\n",
              "      <td>31.2</td>\n",
              "      <td>29.220315</td>\n",
              "    </tr>\n",
              "    <tr>\n",
              "      <th>10</th>\n",
              "      <td>14.6</td>\n",
              "      <td>19.574461</td>\n",
              "    </tr>\n",
              "    <tr>\n",
              "      <th>11</th>\n",
              "      <td>30.1</td>\n",
              "      <td>28.514383</td>\n",
              "    </tr>\n",
              "    <tr>\n",
              "      <th>12</th>\n",
              "      <td>22.2</td>\n",
              "      <td>22.807205</td>\n",
              "    </tr>\n",
              "    <tr>\n",
              "      <th>13</th>\n",
              "      <td>16.0</td>\n",
              "      <td>19.560288</td>\n",
              "    </tr>\n",
              "    <tr>\n",
              "      <th>14</th>\n",
              "      <td>20.0</td>\n",
              "      <td>21.440489</td>\n",
              "    </tr>\n",
              "    <tr>\n",
              "      <th>15</th>\n",
              "      <td>37.3</td>\n",
              "      <td>34.491675</td>\n",
              "    </tr>\n",
              "    <tr>\n",
              "      <th>16</th>\n",
              "      <td>28.7</td>\n",
              "      <td>25.592522</td>\n",
              "    </tr>\n",
              "    <tr>\n",
              "      <th>17</th>\n",
              "      <td>33.3</td>\n",
              "      <td>36.924060</td>\n",
              "    </tr>\n",
              "    <tr>\n",
              "      <th>18</th>\n",
              "      <td>30.1</td>\n",
              "      <td>34.527321</td>\n",
              "    </tr>\n",
              "    <tr>\n",
              "      <th>19</th>\n",
              "      <td>12.6</td>\n",
              "      <td>19.075508</td>\n",
              "    </tr>\n",
              "    <tr>\n",
              "      <th>20</th>\n",
              "      <td>13.4</td>\n",
              "      <td>15.519259</td>\n",
              "    </tr>\n",
              "    <tr>\n",
              "      <th>21</th>\n",
              "      <td>13.6</td>\n",
              "      <td>13.989936</td>\n",
              "    </tr>\n",
              "    <tr>\n",
              "      <th>22</th>\n",
              "      <td>19.6</td>\n",
              "      <td>17.967815</td>\n",
              "    </tr>\n",
              "    <tr>\n",
              "      <th>23</th>\n",
              "      <td>14.6</td>\n",
              "      <td>8.956924</td>\n",
              "    </tr>\n",
              "    <tr>\n",
              "      <th>24</th>\n",
              "      <td>16.7</td>\n",
              "      <td>20.091204</td>\n",
              "    </tr>\n",
              "    <tr>\n",
              "      <th>25</th>\n",
              "      <td>11.5</td>\n",
              "      <td>14.353944</td>\n",
              "    </tr>\n",
              "    <tr>\n",
              "      <th>26</th>\n",
              "      <td>12.7</td>\n",
              "      <td>11.308697</td>\n",
              "    </tr>\n",
              "    <tr>\n",
              "      <th>27</th>\n",
              "      <td>43.8</td>\n",
              "      <td>34.642620</td>\n",
              "    </tr>\n",
              "    <tr>\n",
              "      <th>28</th>\n",
              "      <td>33.2</td>\n",
              "      <td>31.879714</td>\n",
              "    </tr>\n",
              "    <tr>\n",
              "      <th>29</th>\n",
              "      <td>16.8</td>\n",
              "      <td>20.052274</td>\n",
              "    </tr>\n",
              "    <tr>\n",
              "      <th>...</th>\n",
              "      <td>...</td>\n",
              "      <td>...</td>\n",
              "    </tr>\n",
              "    <tr>\n",
              "      <th>72</th>\n",
              "      <td>19.4</td>\n",
              "      <td>17.517550</td>\n",
              "    </tr>\n",
              "    <tr>\n",
              "      <th>73</th>\n",
              "      <td>14.2</td>\n",
              "      <td>18.114418</td>\n",
              "    </tr>\n",
              "    <tr>\n",
              "      <th>74</th>\n",
              "      <td>21.8</td>\n",
              "      <td>20.660067</td>\n",
              "    </tr>\n",
              "    <tr>\n",
              "      <th>75</th>\n",
              "      <td>50.0</td>\n",
              "      <td>35.576825</td>\n",
              "    </tr>\n",
              "    <tr>\n",
              "      <th>76</th>\n",
              "      <td>22.1</td>\n",
              "      <td>25.962113</td>\n",
              "    </tr>\n",
              "    <tr>\n",
              "      <th>77</th>\n",
              "      <td>16.8</td>\n",
              "      <td>21.190917</td>\n",
              "    </tr>\n",
              "    <tr>\n",
              "      <th>78</th>\n",
              "      <td>28.4</td>\n",
              "      <td>30.030470</td>\n",
              "    </tr>\n",
              "    <tr>\n",
              "      <th>79</th>\n",
              "      <td>17.4</td>\n",
              "      <td>15.968831</td>\n",
              "    </tr>\n",
              "    <tr>\n",
              "      <th>80</th>\n",
              "      <td>20.6</td>\n",
              "      <td>18.707107</td>\n",
              "    </tr>\n",
              "    <tr>\n",
              "      <th>81</th>\n",
              "      <td>50.0</td>\n",
              "      <td>41.193903</td>\n",
              "    </tr>\n",
              "    <tr>\n",
              "      <th>82</th>\n",
              "      <td>24.4</td>\n",
              "      <td>23.600511</td>\n",
              "    </tr>\n",
              "    <tr>\n",
              "      <th>83</th>\n",
              "      <td>17.8</td>\n",
              "      <td>23.916903</td>\n",
              "    </tr>\n",
              "    <tr>\n",
              "      <th>84</th>\n",
              "      <td>23.1</td>\n",
              "      <td>16.042816</td>\n",
              "    </tr>\n",
              "    <tr>\n",
              "      <th>85</th>\n",
              "      <td>22.0</td>\n",
              "      <td>26.632707</td>\n",
              "    </tr>\n",
              "    <tr>\n",
              "      <th>86</th>\n",
              "      <td>22.0</td>\n",
              "      <td>27.979294</td>\n",
              "    </tr>\n",
              "    <tr>\n",
              "      <th>87</th>\n",
              "      <td>12.8</td>\n",
              "      <td>13.656081</td>\n",
              "    </tr>\n",
              "    <tr>\n",
              "      <th>88</th>\n",
              "      <td>13.6</td>\n",
              "      <td>12.733423</td>\n",
              "    </tr>\n",
              "    <tr>\n",
              "      <th>89</th>\n",
              "      <td>50.0</td>\n",
              "      <td>22.406194</td>\n",
              "    </tr>\n",
              "    <tr>\n",
              "      <th>90</th>\n",
              "      <td>25.0</td>\n",
              "      <td>24.008349</td>\n",
              "    </tr>\n",
              "    <tr>\n",
              "      <th>91</th>\n",
              "      <td>29.9</td>\n",
              "      <td>30.733601</td>\n",
              "    </tr>\n",
              "    <tr>\n",
              "      <th>92</th>\n",
              "      <td>20.0</td>\n",
              "      <td>22.622859</td>\n",
              "    </tr>\n",
              "    <tr>\n",
              "      <th>93</th>\n",
              "      <td>18.4</td>\n",
              "      <td>19.360220</td>\n",
              "    </tr>\n",
              "    <tr>\n",
              "      <th>94</th>\n",
              "      <td>15.3</td>\n",
              "      <td>20.740001</td>\n",
              "    </tr>\n",
              "    <tr>\n",
              "      <th>95</th>\n",
              "      <td>41.7</td>\n",
              "      <td>38.497240</td>\n",
              "    </tr>\n",
              "    <tr>\n",
              "      <th>96</th>\n",
              "      <td>13.4</td>\n",
              "      <td>13.344773</td>\n",
              "    </tr>\n",
              "    <tr>\n",
              "      <th>97</th>\n",
              "      <td>8.3</td>\n",
              "      <td>14.126229</td>\n",
              "    </tr>\n",
              "    <tr>\n",
              "      <th>98</th>\n",
              "      <td>30.8</td>\n",
              "      <td>31.212733</td>\n",
              "    </tr>\n",
              "    <tr>\n",
              "      <th>99</th>\n",
              "      <td>19.3</td>\n",
              "      <td>19.908967</td>\n",
              "    </tr>\n",
              "    <tr>\n",
              "      <th>100</th>\n",
              "      <td>13.1</td>\n",
              "      <td>14.358364</td>\n",
              "    </tr>\n",
              "    <tr>\n",
              "      <th>101</th>\n",
              "      <td>28.2</td>\n",
              "      <td>32.090944</td>\n",
              "    </tr>\n",
              "  </tbody>\n",
              "</table>\n",
              "<p>102 rows × 2 columns</p>\n",
              "</div>"
            ],
            "text/plain": [
              "     True Labels  Predicted Labels\n",
              "0           37.9         33.334242\n",
              "1           17.4         21.800972\n",
              "2           32.0         33.397457\n",
              "3           21.4         23.868016\n",
              "4           24.0         24.482675\n",
              "5           10.5          7.064670\n",
              "6           32.5         30.260659\n",
              "7           16.2         20.378662\n",
              "8           13.8          6.204524\n",
              "9           31.2         29.220315\n",
              "10          14.6         19.574461\n",
              "11          30.1         28.514383\n",
              "12          22.2         22.807205\n",
              "13          16.0         19.560288\n",
              "14          20.0         21.440489\n",
              "15          37.3         34.491675\n",
              "16          28.7         25.592522\n",
              "17          33.3         36.924060\n",
              "18          30.1         34.527321\n",
              "19          12.6         19.075508\n",
              "20          13.4         15.519259\n",
              "21          13.6         13.989936\n",
              "22          19.6         17.967815\n",
              "23          14.6          8.956924\n",
              "24          16.7         20.091204\n",
              "25          11.5         14.353944\n",
              "26          12.7         11.308697\n",
              "27          43.8         34.642620\n",
              "28          33.2         31.879714\n",
              "29          16.8         20.052274\n",
              "..           ...               ...\n",
              "72          19.4         17.517550\n",
              "73          14.2         18.114418\n",
              "74          21.8         20.660067\n",
              "75          50.0         35.576825\n",
              "76          22.1         25.962113\n",
              "77          16.8         21.190917\n",
              "78          28.4         30.030470\n",
              "79          17.4         15.968831\n",
              "80          20.6         18.707107\n",
              "81          50.0         41.193903\n",
              "82          24.4         23.600511\n",
              "83          17.8         23.916903\n",
              "84          23.1         16.042816\n",
              "85          22.0         26.632707\n",
              "86          22.0         27.979294\n",
              "87          12.8         13.656081\n",
              "88          13.6         12.733423\n",
              "89          50.0         22.406194\n",
              "90          25.0         24.008349\n",
              "91          29.9         30.733601\n",
              "92          20.0         22.622859\n",
              "93          18.4         19.360220\n",
              "94          15.3         20.740001\n",
              "95          41.7         38.497240\n",
              "96          13.4         13.344773\n",
              "97           8.3         14.126229\n",
              "98          30.8         31.212733\n",
              "99          19.3         19.908967\n",
              "100         13.1         14.358364\n",
              "101         28.2         32.090944\n",
              "\n",
              "[102 rows x 2 columns]"
            ]
          },
          "metadata": {
            "tags": []
          },
          "execution_count": 218
        }
      ]
    },
    {
      "cell_type": "code",
      "metadata": {
        "id": "JnvFeHPunhcY",
        "colab_type": "code",
        "outputId": "f7f749af-a9c6-497e-de82-e2d6c34135f9",
        "colab": {
          "base_uri": "https://localhost:8080/",
          "height": 34
        }
      },
      "source": [
        "Mean_Sq_Error = mean_squared_error(Y_test, y_predicted)\n",
        "print(Mean_Sq_Error)"
      ],
      "execution_count": 219,
      "outputs": [
        {
          "output_type": "stream",
          "text": [
            "24.68779995681416\n"
          ],
          "name": "stdout"
        }
      ]
    },
    {
      "cell_type": "code",
      "metadata": {
        "id": "CKA4A1VxoGq_",
        "colab_type": "code",
        "outputId": "dc3a9a92-a39d-4306-ad82-16d9661f8c28",
        "colab": {
          "base_uri": "https://localhost:8080/",
          "height": 762
        }
      },
      "source": [
        "import seaborn as sns\n",
        "lm1 = sns.lmplot(x=\"True Labels\", y=\"Predicted Labels\", data = df1, size = 10)\n",
        "\n",
        "fig1 = lm1.fig \n",
        "\n",
        "fig1.suptitle(\"With Manual Implementation(Without Sklearn)\", fontsize=18)\n",
        "\n",
        "sns.set(font_scale = 1.5)"
      ],
      "execution_count": 220,
      "outputs": [
        {
          "output_type": "stream",
          "text": [
            "/usr/local/lib/python3.6/dist-packages/seaborn/regression.py:546: UserWarning: The `size` paramter has been renamed to `height`; please update your code.\n",
            "  warnings.warn(msg, UserWarning)\n"
          ],
          "name": "stderr"
        },
        {
          "output_type": "display_data",
          "data": {
            "image/png": "[encoded data removed]",
            "text/plain": [
              "<Figure size 720x720 with 1 Axes>"
            ]
          },
          "metadata": {
            "tags": []
          }
        }
      ]
    },
    {
      "cell_type": "markdown",
      "metadata": {
        "id": "mCNZ0TCntN8B",
        "colab_type": "text"
      },
      "source": [
        "**Sklearn implementation**"
      ]
    },
    {
      "cell_type": "code",
      "metadata": {
        "id": "l-dOJaSnrFjx",
        "colab_type": "code",
        "outputId": "a2f306fd-d487-4f8a-ed97-560703deefff",
        "colab": {
          "base_uri": "https://localhost:8080/",
          "height": 84
        }
      },
      "source": [
        "X_temp = X_train_standadized.drop(\"PRICE\", axis = 1, inplace = False)\n",
        "X=X_temp\n",
        "Y = Y_train\n",
        "\n",
        "X_test_temp = X_test_standadized.drop(\"PRICE\", axis = 1, inplace = False)\n",
        "X_te=X_test_temp\n",
        "Y_te = Y_test\n",
        "\n",
        "clf = SGDRegressor(shuffle = False, learning_rate= 'invscaling', max_iter = 2000)\n",
        "clf.fit(X, Y)# fir train data\n",
        "\n",
        "Y_pred = clf.predict(X_te)# predict test error\n",
        "\n",
        "print(\"Weight = \"+str(clf.coef_))\n",
        "print(\"Y Intercept = \"+str(clf.intercept_))"
      ],
      "execution_count": 223,
      "outputs": [
        {
          "output_type": "stream",
          "text": [
            "Weight = [-0.92923444  0.80810734 -0.02142847  0.81761804 -2.02014517  2.46852323\n",
            " -0.02994358 -2.91655848  2.16393634 -1.33702632 -2.17771005  0.90810995\n",
            " -3.66821822]\n",
            "Y Intercept = [22.30660382]\n"
          ],
          "name": "stdout"
        }
      ]
    },
    {
      "cell_type": "code",
      "metadata": {
        "id": "BvXzTLbKuM9S",
        "colab_type": "code",
        "outputId": "057730f1-cbb5-48af-c429-169dc567dbd7",
        "colab": {
          "base_uri": "https://localhost:8080/",
          "height": 1882
        }
      },
      "source": [
        "d2 = {'True Labels': Y_te, 'Predicted Labels': Y_pred}\n",
        "df2 = pd.DataFrame(data = d2)\n",
        "df2"
      ],
      "execution_count": 224,
      "outputs": [
        {
          "output_type": "execute_result",
          "data": {
            "text/html": [
              "<div>\n",
              "<style scoped>\n",
              "    .dataframe tbody tr th:only-of-type {\n",
              "        vertical-align: middle;\n",
              "    }\n",
              "\n",
              "    .dataframe tbody tr th {\n",
              "        vertical-align: top;\n",
              "    }\n",
              "\n",
              "    .dataframe thead th {\n",
              "        text-align: right;\n",
              "    }\n",
              "</style>\n",
              "<table border=\"1\" class=\"dataframe\">\n",
              "  <thead>\n",
              "    <tr style=\"text-align: right;\">\n",
              "      <th></th>\n",
              "      <th>True Labels</th>\n",
              "      <th>Predicted Labels</th>\n",
              "    </tr>\n",
              "  </thead>\n",
              "  <tbody>\n",
              "    <tr>\n",
              "      <th>0</th>\n",
              "      <td>37.9</td>\n",
              "      <td>33.114366</td>\n",
              "    </tr>\n",
              "    <tr>\n",
              "      <th>1</th>\n",
              "      <td>17.4</td>\n",
              "      <td>22.728829</td>\n",
              "    </tr>\n",
              "    <tr>\n",
              "      <th>2</th>\n",
              "      <td>32.0</td>\n",
              "      <td>32.951590</td>\n",
              "    </tr>\n",
              "    <tr>\n",
              "      <th>3</th>\n",
              "      <td>21.4</td>\n",
              "      <td>24.724204</td>\n",
              "    </tr>\n",
              "    <tr>\n",
              "      <th>4</th>\n",
              "      <td>24.0</td>\n",
              "      <td>25.072981</td>\n",
              "    </tr>\n",
              "    <tr>\n",
              "      <th>5</th>\n",
              "      <td>10.5</td>\n",
              "      <td>6.692912</td>\n",
              "    </tr>\n",
              "    <tr>\n",
              "      <th>6</th>\n",
              "      <td>32.5</td>\n",
              "      <td>30.351692</td>\n",
              "    </tr>\n",
              "    <tr>\n",
              "      <th>7</th>\n",
              "      <td>16.2</td>\n",
              "      <td>20.520831</td>\n",
              "    </tr>\n",
              "    <tr>\n",
              "      <th>8</th>\n",
              "      <td>13.8</td>\n",
              "      <td>6.607847</td>\n",
              "    </tr>\n",
              "    <tr>\n",
              "      <th>9</th>\n",
              "      <td>31.2</td>\n",
              "      <td>28.303887</td>\n",
              "    </tr>\n",
              "    <tr>\n",
              "      <th>10</th>\n",
              "      <td>14.6</td>\n",
              "      <td>19.250599</td>\n",
              "    </tr>\n",
              "    <tr>\n",
              "      <th>11</th>\n",
              "      <td>30.1</td>\n",
              "      <td>24.541417</td>\n",
              "    </tr>\n",
              "    <tr>\n",
              "      <th>12</th>\n",
              "      <td>22.2</td>\n",
              "      <td>21.815888</td>\n",
              "    </tr>\n",
              "    <tr>\n",
              "      <th>13</th>\n",
              "      <td>16.0</td>\n",
              "      <td>18.137431</td>\n",
              "    </tr>\n",
              "    <tr>\n",
              "      <th>14</th>\n",
              "      <td>20.0</td>\n",
              "      <td>22.140637</td>\n",
              "    </tr>\n",
              "    <tr>\n",
              "      <th>15</th>\n",
              "      <td>37.3</td>\n",
              "      <td>33.085148</td>\n",
              "    </tr>\n",
              "    <tr>\n",
              "      <th>16</th>\n",
              "      <td>28.7</td>\n",
              "      <td>25.054250</td>\n",
              "    </tr>\n",
              "    <tr>\n",
              "      <th>17</th>\n",
              "      <td>33.3</td>\n",
              "      <td>35.846128</td>\n",
              "    </tr>\n",
              "    <tr>\n",
              "      <th>18</th>\n",
              "      <td>30.1</td>\n",
              "      <td>34.487408</td>\n",
              "    </tr>\n",
              "    <tr>\n",
              "      <th>19</th>\n",
              "      <td>12.6</td>\n",
              "      <td>18.197055</td>\n",
              "    </tr>\n",
              "    <tr>\n",
              "      <th>20</th>\n",
              "      <td>13.4</td>\n",
              "      <td>16.451031</td>\n",
              "    </tr>\n",
              "    <tr>\n",
              "      <th>21</th>\n",
              "      <td>13.6</td>\n",
              "      <td>14.844595</td>\n",
              "    </tr>\n",
              "    <tr>\n",
              "      <th>22</th>\n",
              "      <td>19.6</td>\n",
              "      <td>17.553750</td>\n",
              "    </tr>\n",
              "    <tr>\n",
              "      <th>23</th>\n",
              "      <td>14.6</td>\n",
              "      <td>9.155418</td>\n",
              "    </tr>\n",
              "    <tr>\n",
              "      <th>24</th>\n",
              "      <td>16.7</td>\n",
              "      <td>19.571965</td>\n",
              "    </tr>\n",
              "    <tr>\n",
              "      <th>25</th>\n",
              "      <td>11.5</td>\n",
              "      <td>14.432359</td>\n",
              "    </tr>\n",
              "    <tr>\n",
              "      <th>26</th>\n",
              "      <td>12.7</td>\n",
              "      <td>12.804000</td>\n",
              "    </tr>\n",
              "    <tr>\n",
              "      <th>27</th>\n",
              "      <td>43.8</td>\n",
              "      <td>34.736089</td>\n",
              "    </tr>\n",
              "    <tr>\n",
              "      <th>28</th>\n",
              "      <td>33.2</td>\n",
              "      <td>31.944591</td>\n",
              "    </tr>\n",
              "    <tr>\n",
              "      <th>29</th>\n",
              "      <td>16.8</td>\n",
              "      <td>20.548093</td>\n",
              "    </tr>\n",
              "    <tr>\n",
              "      <th>...</th>\n",
              "      <td>...</td>\n",
              "      <td>...</td>\n",
              "    </tr>\n",
              "    <tr>\n",
              "      <th>72</th>\n",
              "      <td>19.4</td>\n",
              "      <td>17.294825</td>\n",
              "    </tr>\n",
              "    <tr>\n",
              "      <th>73</th>\n",
              "      <td>14.2</td>\n",
              "      <td>18.165053</td>\n",
              "    </tr>\n",
              "    <tr>\n",
              "      <th>74</th>\n",
              "      <td>21.8</td>\n",
              "      <td>21.274724</td>\n",
              "    </tr>\n",
              "    <tr>\n",
              "      <th>75</th>\n",
              "      <td>50.0</td>\n",
              "      <td>35.088224</td>\n",
              "    </tr>\n",
              "    <tr>\n",
              "      <th>76</th>\n",
              "      <td>22.1</td>\n",
              "      <td>26.630241</td>\n",
              "    </tr>\n",
              "    <tr>\n",
              "      <th>77</th>\n",
              "      <td>16.8</td>\n",
              "      <td>20.658325</td>\n",
              "    </tr>\n",
              "    <tr>\n",
              "      <th>78</th>\n",
              "      <td>28.4</td>\n",
              "      <td>29.792436</td>\n",
              "    </tr>\n",
              "    <tr>\n",
              "      <th>79</th>\n",
              "      <td>17.4</td>\n",
              "      <td>15.883859</td>\n",
              "    </tr>\n",
              "    <tr>\n",
              "      <th>80</th>\n",
              "      <td>20.6</td>\n",
              "      <td>16.351618</td>\n",
              "    </tr>\n",
              "    <tr>\n",
              "      <th>81</th>\n",
              "      <td>50.0</td>\n",
              "      <td>39.806554</td>\n",
              "    </tr>\n",
              "    <tr>\n",
              "      <th>82</th>\n",
              "      <td>24.4</td>\n",
              "      <td>23.449878</td>\n",
              "    </tr>\n",
              "    <tr>\n",
              "      <th>83</th>\n",
              "      <td>17.8</td>\n",
              "      <td>22.339037</td>\n",
              "    </tr>\n",
              "    <tr>\n",
              "      <th>84</th>\n",
              "      <td>23.1</td>\n",
              "      <td>17.196446</td>\n",
              "    </tr>\n",
              "    <tr>\n",
              "      <th>85</th>\n",
              "      <td>22.0</td>\n",
              "      <td>27.264998</td>\n",
              "    </tr>\n",
              "    <tr>\n",
              "      <th>86</th>\n",
              "      <td>22.0</td>\n",
              "      <td>26.995809</td>\n",
              "    </tr>\n",
              "    <tr>\n",
              "      <th>87</th>\n",
              "      <td>12.8</td>\n",
              "      <td>13.320283</td>\n",
              "    </tr>\n",
              "    <tr>\n",
              "      <th>88</th>\n",
              "      <td>13.6</td>\n",
              "      <td>12.556716</td>\n",
              "    </tr>\n",
              "    <tr>\n",
              "      <th>89</th>\n",
              "      <td>50.0</td>\n",
              "      <td>23.745185</td>\n",
              "    </tr>\n",
              "    <tr>\n",
              "      <th>90</th>\n",
              "      <td>25.0</td>\n",
              "      <td>24.263381</td>\n",
              "    </tr>\n",
              "    <tr>\n",
              "      <th>91</th>\n",
              "      <td>29.9</td>\n",
              "      <td>31.160953</td>\n",
              "    </tr>\n",
              "    <tr>\n",
              "      <th>92</th>\n",
              "      <td>20.0</td>\n",
              "      <td>23.050383</td>\n",
              "    </tr>\n",
              "    <tr>\n",
              "      <th>93</th>\n",
              "      <td>18.4</td>\n",
              "      <td>18.767396</td>\n",
              "    </tr>\n",
              "    <tr>\n",
              "      <th>94</th>\n",
              "      <td>15.3</td>\n",
              "      <td>20.837044</td>\n",
              "    </tr>\n",
              "    <tr>\n",
              "      <th>95</th>\n",
              "      <td>41.7</td>\n",
              "      <td>37.297985</td>\n",
              "    </tr>\n",
              "    <tr>\n",
              "      <th>96</th>\n",
              "      <td>13.4</td>\n",
              "      <td>13.435849</td>\n",
              "    </tr>\n",
              "    <tr>\n",
              "      <th>97</th>\n",
              "      <td>8.3</td>\n",
              "      <td>13.310258</td>\n",
              "    </tr>\n",
              "    <tr>\n",
              "      <th>98</th>\n",
              "      <td>30.8</td>\n",
              "      <td>30.430116</td>\n",
              "    </tr>\n",
              "    <tr>\n",
              "      <th>99</th>\n",
              "      <td>19.3</td>\n",
              "      <td>20.302008</td>\n",
              "    </tr>\n",
              "    <tr>\n",
              "      <th>100</th>\n",
              "      <td>13.1</td>\n",
              "      <td>14.252085</td>\n",
              "    </tr>\n",
              "    <tr>\n",
              "      <th>101</th>\n",
              "      <td>28.2</td>\n",
              "      <td>31.630373</td>\n",
              "    </tr>\n",
              "  </tbody>\n",
              "</table>\n",
              "<p>102 rows × 2 columns</p>\n",
              "</div>"
            ],
            "text/plain": [
              "     True Labels  Predicted Labels\n",
              "0           37.9         33.114366\n",
              "1           17.4         22.728829\n",
              "2           32.0         32.951590\n",
              "3           21.4         24.724204\n",
              "4           24.0         25.072981\n",
              "5           10.5          6.692912\n",
              "6           32.5         30.351692\n",
              "7           16.2         20.520831\n",
              "8           13.8          6.607847\n",
              "9           31.2         28.303887\n",
              "10          14.6         19.250599\n",
              "11          30.1         24.541417\n",
              "12          22.2         21.815888\n",
              "13          16.0         18.137431\n",
              "14          20.0         22.140637\n",
              "15          37.3         33.085148\n",
              "16          28.7         25.054250\n",
              "17          33.3         35.846128\n",
              "18          30.1         34.487408\n",
              "19          12.6         18.197055\n",
              "20          13.4         16.451031\n",
              "21          13.6         14.844595\n",
              "22          19.6         17.553750\n",
              "23          14.6          9.155418\n",
              "24          16.7         19.571965\n",
              "25          11.5         14.432359\n",
              "26          12.7         12.804000\n",
              "27          43.8         34.736089\n",
              "28          33.2         31.944591\n",
              "29          16.8         20.548093\n",
              "..           ...               ...\n",
              "72          19.4         17.294825\n",
              "73          14.2         18.165053\n",
              "74          21.8         21.274724\n",
              "75          50.0         35.088224\n",
              "76          22.1         26.630241\n",
              "77          16.8         20.658325\n",
              "78          28.4         29.792436\n",
              "79          17.4         15.883859\n",
              "80          20.6         16.351618\n",
              "81          50.0         39.806554\n",
              "82          24.4         23.449878\n",
              "83          17.8         22.339037\n",
              "84          23.1         17.196446\n",
              "85          22.0         27.264998\n",
              "86          22.0         26.995809\n",
              "87          12.8         13.320283\n",
              "88          13.6         12.556716\n",
              "89          50.0         23.745185\n",
              "90          25.0         24.263381\n",
              "91          29.9         31.160953\n",
              "92          20.0         23.050383\n",
              "93          18.4         18.767396\n",
              "94          15.3         20.837044\n",
              "95          41.7         37.297985\n",
              "96          13.4         13.435849\n",
              "97           8.3         13.310258\n",
              "98          30.8         30.430116\n",
              "99          19.3         20.302008\n",
              "100         13.1         14.252085\n",
              "101         28.2         31.630373\n",
              "\n",
              "[102 rows x 2 columns]"
            ]
          },
          "metadata": {
            "tags": []
          },
          "execution_count": 224
        }
      ]
    },
    {
      "cell_type": "code",
      "metadata": {
        "id": "JszT363UuRgd",
        "colab_type": "code",
        "outputId": "5923c037-db18-46c3-9ea5-b8b8ff88fb44",
        "colab": {
          "base_uri": "https://localhost:8080/",
          "height": 34
        }
      },
      "source": [
        "Mean_Sq_Error = mean_squared_error(Y_te, Y_pred)\n",
        "Mean_Sq_Error"
      ],
      "execution_count": 225,
      "outputs": [
        {
          "output_type": "execute_result",
          "data": {
            "text/plain": [
              "25.072849774836367"
            ]
          },
          "metadata": {
            "tags": []
          },
          "execution_count": 225
        }
      ]
    },
    {
      "cell_type": "code",
      "metadata": {
        "id": "njUhuMkDuWap",
        "colab_type": "code",
        "outputId": "e61cd425-e366-44a1-b671-17e7cb9c4da5",
        "colab": {
          "base_uri": "https://localhost:8080/",
          "height": 750
        }
      },
      "source": [
        "lm2 = sns.lmplot(x=\"True Labels\", y=\"Predicted Labels\", data = df2, size = 10)\n",
        "\n",
        "fig2 = lm2.fig \n",
        "\n",
        "# Add a title to the Figure\n",
        "fig2.suptitle(\"With Sklearn's Implementation\", fontsize=18)\n",
        "\n",
        "sns.set(font_scale = 1.5)"
      ],
      "execution_count": 226,
      "outputs": [
        {
          "output_type": "stream",
          "text": [
            "/usr/local/lib/python3.6/dist-packages/seaborn/regression.py:546: UserWarning: The `size` paramter has been renamed to `height`; please update your code.\n",
            "  warnings.warn(msg, UserWarning)\n"
          ],
          "name": "stderr"
        },
        {
          "output_type": "display_data",
          "data": {
            "image/png": "[encoded data removed]",
            "text/plain": [
              "<Figure size 720x720 with 1 Axes>"
            ]
          },
          "metadata": {
            "tags": []
          }
        }
      ]
    },
    {
      "cell_type": "markdown",
      "metadata": {
        "id": "pLyE6fkWuseN",
        "colab_type": "text"
      },
      "source": [
        "# Result:\n",
        "**Sklearn SGD impementation error- >    25.07**\n",
        "\n",
        "**My         SGD impementation error- >    24.68**"
      ]
    },
    {
      "cell_type": "code",
      "metadata": {
        "id": "yZANLrcAhs_D",
        "colab_type": "code",
        "colab": {}
      },
      "source": [
        ""
      ],
      "execution_count": 0,
      "outputs": []
    }
  ]
}