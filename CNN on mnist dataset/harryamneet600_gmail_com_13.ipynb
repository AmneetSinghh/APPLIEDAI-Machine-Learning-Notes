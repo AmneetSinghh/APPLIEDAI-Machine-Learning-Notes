{
  "nbformat": 4,
  "nbformat_minor": 0,
  "metadata": {
    "colab": {
      "name": "harryamneet600@gmail.com_13.ipynb",
      "version": "0.3.2",
      "provenance": [],
      "collapsed_sections": []
    },
    "kernelspec": {
      "name": "python3",
      "display_name": "Python 3"
    },
    "accelerator": "GPU"
  },
  "cells": [
    {
      "cell_type": "markdown",
      "metadata": {
        "id": "AMD3EBd7VcHy",
        "colab_type": "text"
      },
      "source": [
        "# Apply 3  different CNN's on the MNIST dataset"
      ]
    },
    {
      "cell_type": "markdown",
      "metadata": {
        "id": "GoG90z1ekWdG",
        "colab_type": "text"
      },
      "source": [
        "# Assinment 13  (Deep learning Section)"
      ]
    },
    {
      "cell_type": "code",
      "metadata": {
        "id": "Kgdb41HQVlgd",
        "colab_type": "code",
        "outputId": "f2c4b6eb-091f-4017-9f9c-6364afc935ef",
        "colab": {
          "base_uri": "https://localhost:8080/",
          "height": 118
        }
      },
      "source": [
        "# Credits: https://github.com/keras-team/keras/blob/master/examples/mnist_cnn.py\n",
        "#Refer this link for making better CNN networks\n",
        "#https://towardsdatascience.com/a-guide-to-an-efficient-way-to-build-neural-network-architectures-part-ii-hyper-parameter-42efca01e5d7\n",
        "\n",
        "\n",
        "\n",
        "from __future__ import print_function\n",
        "import keras\n",
        "from keras.datasets import mnist\n",
        "from keras.models import Sequential\n",
        "from keras.layers import Dense, Dropout, Flatten\n",
        "from keras.layers import Conv2D, MaxPooling2D\n",
        "from keras import backend as K\n",
        "\n",
        "\n",
        "batch_size = 128\n",
        "num_classes = 10\n",
        "epochs = 12\n",
        "# Preparing trainining and testing data\n",
        "\n",
        "\n",
        "# input image dimensions\n",
        "img_rows, img_cols = 28, 28\n",
        "# the data, split between train and test sets\n",
        "(x_train, y_train), (x_test, y_test) = mnist.load_data()\n",
        "#print(x_train.shape)\n",
        "\n",
        "\n",
        "if K.image_data_format() == 'channels_first':\n",
        "    x_train = x_train.reshape(x_train.shape[0], 1, img_rows, img_cols)\n",
        "    x_test = x_test.reshape(x_test.shape[0], 1, img_rows, img_cols)\n",
        "    input_shape = (1, img_rows, img_cols)\n",
        "else:\n",
        "    x_train = x_train.reshape(x_train.shape[0], img_rows, img_cols, 1)\n",
        "    x_test = x_test.reshape(x_test.shape[0], img_rows, img_cols, 1)\n",
        "    input_shape = (img_rows, img_cols, 1)\n",
        "\n",
        "x_train = x_train.astype('float32')\n",
        "x_test = x_test.astype('float32')\n",
        "x_train /= 255\n",
        "x_test /= 255\n",
        "\n",
        "print('x_train shape:', x_train.shape)\n",
        "print(x_train.shape[0], 'train samples')\n",
        "print(x_test.shape[0], 'test samples')\n",
        "\n",
        "# convert class vectors to binary class matrices\n",
        "y_train = keras.utils.to_categorical(y_train, num_classes)\n",
        "y_test = keras.utils.to_categorical(y_test, num_classes)\n",
        "\n"
      ],
      "execution_count": 1,
      "outputs": [
        {
          "output_type": "stream",
          "text": [
            "Using TensorFlow backend.\n"
          ],
          "name": "stderr"
        },
        {
          "output_type": "stream",
          "text": [
            "Downloading data from https://s3.amazonaws.com/img-datasets/mnist.npz\n",
            "11493376/11490434 [==============================] - 0s 0us/step\n",
            "x_train shape: (60000, 28, 28, 1)\n",
            "60000 train samples\n",
            "10000 test samples\n"
          ],
          "name": "stdout"
        }
      ]
    },
    {
      "cell_type": "code",
      "metadata": {
        "id": "Vv3DvaOI9t9f",
        "colab_type": "code",
        "colab": {}
      },
      "source": [
        "%matplotlib notebook\n",
        "%matplotlib inline\n",
        "import matplotlib.pyplot as plt\n",
        "import numpy as np \n",
        "import time\n",
        "# https://gist.github.com/greydanus/f6eee59eaf1d90fcb3b534a25362cea4 \n",
        "# https://stackoverflow.com/a/14434334 # this function is used to update the plots for each epoch and error\n",
        "def plt_dynamic(x, vy, ty, ax, colors=['b']):\n",
        "  ax.plot(x, vy, 'b', label=\"Validation Loss\")\n",
        "  ax.plot(x, ty, 'r', label=\"Train Loss\")\n",
        "  plt.legend()\n",
        "  plt.grid()\n",
        "  fig.canvas.draw()\n"
      ],
      "execution_count": 0,
      "outputs": []
    },
    {
      "cell_type": "markdown",
      "metadata": {
        "id": "N7-cobmzlyHR",
        "colab_type": "text"
      },
      "source": [
        "#**Model 1->     2 conv + 2  maxpoll+ 3 dense layers**\n",
        "\n",
        "---"
      ]
    },
    {
      "cell_type": "code",
      "metadata": {
        "id": "mb6nu1T1WNlj",
        "colab_type": "code",
        "outputId": "fdb66200-3bfa-454f-c80f-525f84bc5eee",
        "colab": {
          "base_uri": "https://localhost:8080/",
          "height": 474
        }
      },
      "source": [
        "\n",
        "# In this (First Model) lets follow the general structure of the lenet    we will make a simple model\n",
        "\n",
        "# Network Architecture\n",
        "#   input -> conv -> polling -> conv -> polling -> FC -> FC -> output\n",
        "#             8                  16               120    84     10\n",
        "model = Sequential()\n",
        "model.add(Conv2D(8, kernel_size=(3, 3),activation='relu',padding='same',input_shape=input_shape))\n",
        "model.add(MaxPooling2D(pool_size=(2, 2),strides=2))# for the location invariants\n",
        "\n",
        "model.add(Conv2D(16, (5, 5), activation='relu'))\n",
        "model.add(MaxPooling2D(pool_size=(2, 2),strides=2))# for the location invariants\n",
        "\n",
        "model.add(Flatten())\n",
        "model.add(Dense(120, activation='relu'))\n",
        "model.add(Dense(84, activation='relu'))\n",
        "model.add(Dense(num_classes, activation='softmax'))\n",
        "\n",
        "model.compile(loss=keras.losses.categorical_crossentropy,\n",
        "              optimizer=keras.optimizers.adam(),\n",
        "              metrics=['accuracy'])\n",
        "# this will train the model and validate the model in this  fit function\n",
        "model.summary()"
      ],
      "execution_count": 3,
      "outputs": [
        {
          "output_type": "stream",
          "text": [
            "WARNING:tensorflow:From /usr/local/lib/python3.6/dist-packages/tensorflow/python/framework/op_def_library.py:263: colocate_with (from tensorflow.python.framework.ops) is deprecated and will be removed in a future version.\n",
            "Instructions for updating:\n",
            "Colocations handled automatically by placer.\n",
            "_________________________________________________________________\n",
            "Layer (type)                 Output Shape              Param #   \n",
            "=================================================================\n",
            "conv2d_1 (Conv2D)            (None, 28, 28, 8)         80        \n",
            "_________________________________________________________________\n",
            "max_pooling2d_1 (MaxPooling2 (None, 14, 14, 8)         0         \n",
            "_________________________________________________________________\n",
            "conv2d_2 (Conv2D)            (None, 10, 10, 16)        3216      \n",
            "_________________________________________________________________\n",
            "max_pooling2d_2 (MaxPooling2 (None, 5, 5, 16)          0         \n",
            "_________________________________________________________________\n",
            "flatten_1 (Flatten)          (None, 400)               0         \n",
            "_________________________________________________________________\n",
            "dense_1 (Dense)              (None, 120)               48120     \n",
            "_________________________________________________________________\n",
            "dense_2 (Dense)              (None, 84)                10164     \n",
            "_________________________________________________________________\n",
            "dense_3 (Dense)              (None, 10)                850       \n",
            "=================================================================\n",
            "Total params: 62,430\n",
            "Trainable params: 62,430\n",
            "Non-trainable params: 0\n",
            "_________________________________________________________________\n"
          ],
          "name": "stdout"
        }
      ]
    },
    {
      "cell_type": "code",
      "metadata": {
        "id": "1aU2xQMLi-CE",
        "colab_type": "code",
        "outputId": "de2829a5-df37-4d14-a029-8e9cd32af12c",
        "colab": {
          "base_uri": "https://localhost:8080/",
          "height": 508
        }
      },
      "source": [
        "history=model.fit(x_train, y_train,\n",
        "          batch_size=batch_size,\n",
        "          epochs=epochs,\n",
        "          verbose=1,\n",
        "          validation_data=(x_test, y_test))\n",
        "score = model.evaluate(x_test, y_test, verbose=0)\n",
        "print('Test loss:', score[0])\n",
        "print('Test accuracy:', score[1])"
      ],
      "execution_count": 0,
      "outputs": [
        {
          "output_type": "stream",
          "text": [
            "Train on 60000 samples, validate on 10000 samples\n",
            "Epoch 1/12\n",
            "60000/60000 [==============================] - 31s 522us/step - loss: 0.2797 - acc: 0.9168 - val_loss: 0.1090 - val_acc: 0.9637\n",
            "Epoch 2/12\n",
            "60000/60000 [==============================] - 29s 490us/step - loss: 0.0819 - acc: 0.9746 - val_loss: 0.0541 - val_acc: 0.9822\n",
            "Epoch 3/12\n",
            "60000/60000 [==============================] - 29s 491us/step - loss: 0.0592 - acc: 0.9823 - val_loss: 0.0447 - val_acc: 0.9865\n",
            "Epoch 4/12\n",
            "60000/60000 [==============================] - 29s 491us/step - loss: 0.0446 - acc: 0.9863 - val_loss: 0.0514 - val_acc: 0.9839\n",
            "Epoch 5/12\n",
            "60000/60000 [==============================] - 29s 492us/step - loss: 0.0367 - acc: 0.9890 - val_loss: 0.0388 - val_acc: 0.9883\n",
            "Epoch 6/12\n",
            "60000/60000 [==============================] - 30s 492us/step - loss: 0.0308 - acc: 0.9899 - val_loss: 0.0390 - val_acc: 0.9882\n",
            "Epoch 7/12\n",
            "60000/60000 [==============================] - 30s 493us/step - loss: 0.0273 - acc: 0.9912 - val_loss: 0.0326 - val_acc: 0.9907\n",
            "Epoch 8/12\n",
            "60000/60000 [==============================] - 30s 496us/step - loss: 0.0214 - acc: 0.9930 - val_loss: 0.0357 - val_acc: 0.9898\n",
            "Epoch 9/12\n",
            "60000/60000 [==============================] - 30s 496us/step - loss: 0.0193 - acc: 0.9935 - val_loss: 0.0299 - val_acc: 0.9914\n",
            "Epoch 10/12\n",
            "60000/60000 [==============================] - 30s 493us/step - loss: 0.0154 - acc: 0.9952 - val_loss: 0.0423 - val_acc: 0.9872\n",
            "Epoch 11/12\n",
            "60000/60000 [==============================] - 31s 509us/step - loss: 0.0150 - acc: 0.9951 - val_loss: 0.0356 - val_acc: 0.9889\n",
            "Epoch 12/12\n",
            "60000/60000 [==============================] - 30s 496us/step - loss: 0.0127 - acc: 0.9959 - val_loss: 0.0376 - val_acc: 0.9895\n",
            "Test loss: 0.03759965847136919\n",
            "Test accuracy: 0.9895\n"
          ],
          "name": "stdout"
        }
      ]
    },
    {
      "cell_type": "code",
      "metadata": {
        "id": "bSMO856Hk7xO",
        "colab_type": "code",
        "outputId": "051ae19f-c1d6-40f4-d61a-3e1721ba1320",
        "colab": {
          "base_uri": "https://localhost:8080/",
          "height": 411
        }
      },
      "source": [
        "score = model.evaluate(x_train, y_train, verbose=0)\n",
        "print('Train score:', score[0])\n",
        "print('Train accuracy:', score[1]*100)\n",
        "print('\\n************************ *********************\\n')\n",
        "#test accuracy\n",
        "score = model.evaluate(x_test, y_test, verbose=0)\n",
        "print('Test score:', score[0])\n",
        "print('Test accuracy:', score[1]*100)\n",
        "\n",
        "# plot\n",
        "fig,ax = plt.subplots(1,1)\n",
        "ax.set_xlabel('epoch');\n",
        "ax.set_ylabel('Categorical Crossentropy Loss')\n",
        "x = list(range(1,12+1)) \n",
        "vy = history.history['val_loss']\n",
        "ty = history.history['loss']\n",
        "plt_dynamic(x, vy, ty, ax)"
      ],
      "execution_count": 0,
      "outputs": [
        {
          "output_type": "stream",
          "text": [
            "Train score: 0.00919716933188926\n",
            "Train accuracy: 99.705\n",
            "\n",
            "************************ *********************\n",
            "\n",
            "Test score: 0.03759965847136919\n",
            "Test accuracy: 98.95\n"
          ],
          "name": "stdout"
        },
        {
          "output_type": "display_data",
          "data": {
            "image/png": "[encoded data removed]",
            "text/plain": [
              "<Figure size 432x288 with 1 Axes>"
            ]
          },
          "metadata": {
            "tags": []
          }
        }
      ]
    },
    {
      "cell_type": "markdown",
      "metadata": {
        "id": "uXF1ONGZWMfk",
        "colab_type": "text"
      },
      "source": [
        "#**Model 2->     3 conv + 3  maxpoll+ 2 dense layers**\n",
        "\n",
        "---"
      ]
    },
    {
      "cell_type": "code",
      "metadata": {
        "id": "_Asc4lfAkfIQ",
        "colab_type": "code",
        "outputId": "48007fc1-f74c-4cd3-98f3-242d4f892992",
        "colab": {
          "base_uri": "https://localhost:8080/",
          "height": 472
        }
      },
      "source": [
        "# go basic model to deep layer model\n",
        "\n",
        "# Network Architecture\n",
        "#   input -> conv -> polling -> conv -> polling -> conv -> polling ->  FC -> output\n",
        "#             8                  32               128                   64\n",
        "model = Sequential()\n",
        "model.add(Conv2D(32, kernel_size=(3, 3),activation='relu',input_shape=input_shape))\n",
        "model.add(MaxPooling2D(pool_size=(2, 2),strides=2))# for the location invariants\n",
        "\n",
        "model.add(Conv2D(64, (3,3), activation='relu'))\n",
        "model.add(MaxPooling2D(pool_size=(2, 2),strides=2))# for the location invariants\n",
        "\n",
        "model.add(Conv2D(128, (3, 3), activation='relu'))\n",
        "model.add(MaxPooling2D(pool_size=(2, 2),strides=2))# for the location invariants\n",
        "\n",
        "model.add(Flatten())\n",
        "model.add(Dense(64, activation='relu'))\n",
        "model.add(Dense(num_classes, activation='softmax'))\n",
        "\n",
        "model.compile(loss=keras.losses.categorical_crossentropy,\n",
        "              optimizer=keras.optimizers.adam(),\n",
        "              metrics=['accuracy'])\n",
        "# this will train the model and validate the model in this  fit function\n",
        "model.summary()"
      ],
      "execution_count": 0,
      "outputs": [
        {
          "output_type": "stream",
          "text": [
            "_________________________________________________________________\n",
            "Layer (type)                 Output Shape              Param #   \n",
            "=================================================================\n",
            "conv2d_25 (Conv2D)           (None, 26, 26, 32)        320       \n",
            "_________________________________________________________________\n",
            "max_pooling2d_20 (MaxPooling (None, 13, 13, 32)        0         \n",
            "_________________________________________________________________\n",
            "conv2d_26 (Conv2D)           (None, 11, 11, 64)        18496     \n",
            "_________________________________________________________________\n",
            "max_pooling2d_21 (MaxPooling (None, 5, 5, 64)          0         \n",
            "_________________________________________________________________\n",
            "conv2d_27 (Conv2D)           (None, 3, 3, 128)         73856     \n",
            "_________________________________________________________________\n",
            "max_pooling2d_22 (MaxPooling (None, 1, 1, 128)         0         \n",
            "_________________________________________________________________\n",
            "flatten_10 (Flatten)         (None, 128)               0         \n",
            "_________________________________________________________________\n",
            "dense_23 (Dense)             (None, 64)                8256      \n",
            "_________________________________________________________________\n",
            "dense_24 (Dense)             (None, 10)                650       \n",
            "=================================================================\n",
            "Total params: 101,578\n",
            "Trainable params: 101,578\n",
            "Non-trainable params: 0\n",
            "_________________________________________________________________\n"
          ],
          "name": "stdout"
        }
      ]
    },
    {
      "cell_type": "code",
      "metadata": {
        "id": "76ZLBXTMmsQP",
        "colab_type": "code",
        "outputId": "0ceab300-2ed2-49a4-9ea0-45643a0aac78",
        "colab": {
          "base_uri": "https://localhost:8080/",
          "height": 508
        }
      },
      "source": [
        "history=model.fit(x_train, y_train,\n",
        "          batch_size=batch_size,\n",
        "          epochs=epochs,\n",
        "          verbose=1,\n",
        "          validation_data=(x_test, y_test))\n",
        "score = model.evaluate(x_test, y_test, verbose=0)\n",
        "print('Test loss:', score[0])\n",
        "print('Test accuracy:', score[1])"
      ],
      "execution_count": 0,
      "outputs": [
        {
          "output_type": "stream",
          "text": [
            "Train on 60000 samples, validate on 10000 samples\n",
            "Epoch 1/12\n",
            "60000/60000 [==============================] - 64s 1ms/step - loss: 0.3120 - acc: 0.9073 - val_loss: 0.1023 - val_acc: 0.9693\n",
            "Epoch 2/12\n",
            "60000/60000 [==============================] - 63s 1ms/step - loss: 0.0901 - acc: 0.9728 - val_loss: 0.0724 - val_acc: 0.9776\n",
            "Epoch 3/12\n",
            "60000/60000 [==============================] - 64s 1ms/step - loss: 0.0620 - acc: 0.9808 - val_loss: 0.0543 - val_acc: 0.9849\n",
            "Epoch 4/12\n",
            "60000/60000 [==============================] - 63s 1ms/step - loss: 0.0497 - acc: 0.9845 - val_loss: 0.0478 - val_acc: 0.9842\n",
            "Epoch 5/12\n",
            "60000/60000 [==============================] - 63s 1ms/step - loss: 0.0406 - acc: 0.9874 - val_loss: 0.0531 - val_acc: 0.9842\n",
            "Epoch 6/12\n",
            "60000/60000 [==============================] - 63s 1ms/step - loss: 0.0339 - acc: 0.9896 - val_loss: 0.0439 - val_acc: 0.9868\n",
            "Epoch 7/12\n",
            "60000/60000 [==============================] - 63s 1ms/step - loss: 0.0295 - acc: 0.9907 - val_loss: 0.0501 - val_acc: 0.9845\n",
            "Epoch 8/12\n",
            "60000/60000 [==============================] - 63s 1ms/step - loss: 0.0241 - acc: 0.9927 - val_loss: 0.0515 - val_acc: 0.9852\n",
            "Epoch 9/12\n",
            "60000/60000 [==============================] - 63s 1ms/step - loss: 0.0227 - acc: 0.9928 - val_loss: 0.0444 - val_acc: 0.9872\n",
            "Epoch 10/12\n",
            "60000/60000 [==============================] - 63s 1ms/step - loss: 0.0189 - acc: 0.9937 - val_loss: 0.0507 - val_acc: 0.9846\n",
            "Epoch 11/12\n",
            "60000/60000 [==============================] - 62s 1ms/step - loss: 0.0161 - acc: 0.9944 - val_loss: 0.0489 - val_acc: 0.9876\n",
            "Epoch 12/12\n",
            "60000/60000 [==============================] - 62s 1ms/step - loss: 0.0146 - acc: 0.9953 - val_loss: 0.0429 - val_acc: 0.9898\n",
            "Test loss: 0.042901084853400426\n",
            "Test accuracy: 0.9898\n"
          ],
          "name": "stdout"
        }
      ]
    },
    {
      "cell_type": "code",
      "metadata": {
        "id": "zsWc3lFcmv-t",
        "colab_type": "code",
        "outputId": "bbd5b67b-d395-4f8b-e862-d1f4faa8ba15",
        "colab": {
          "base_uri": "https://localhost:8080/",
          "height": 411
        }
      },
      "source": [
        "score = model.evaluate(x_train, y_train, verbose=0)\n",
        "print('Train score:', score[0])\n",
        "print('Train accuracy:', score[1]*100)\n",
        "print('\\n************************ *********************\\n')\n",
        "#test accuracy\n",
        "score = model.evaluate(x_test, y_test, verbose=0)\n",
        "print('Test score:', score[0])\n",
        "print('Test accuracy:', score[1]*100)\n",
        "\n",
        "\n",
        "# plot\n",
        "fig,ax = plt.subplots(1,1)\n",
        "ax.set_xlabel('epoch');\n",
        "ax.set_ylabel('Categorical Crossentropy Loss')\n",
        "x = list(range(1,12+1)) \n",
        "vy = history.history['val_loss']\n",
        "ty = history.history['loss']\n",
        "plt_dynamic(x, vy, ty, ax)"
      ],
      "execution_count": 0,
      "outputs": [
        {
          "output_type": "stream",
          "text": [
            "Train score: 0.006611525248750877\n",
            "Train accuracy: 99.815\n",
            "\n",
            "************************ *********************\n",
            "\n",
            "Test score: 0.042901084853400426\n",
            "Test accuracy: 98.98\n"
          ],
          "name": "stdout"
        },
        {
          "output_type": "display_data",
          "data": {
            "image/png": "[encoded data removed]",
            "text/plain": [
              "<Figure size 432x288 with 1 Axes>"
            ]
          },
          "metadata": {
            "tags": []
          }
        }
      ]
    },
    {
      "cell_type": "markdown",
      "metadata": {
        "id": "a4Lz7lPpVk47",
        "colab_type": "text"
      },
      "source": [
        "**Finally we also train a vgg like model with the trend Conv-Conv-Pool-Conv-Conv-Pool**\n",
        "\n",
        "#**Model 3 -> 4 conv+ 2 maxpoll + 2 dence**\n",
        "\n",
        "\n",
        "---\n",
        "\n"
      ]
    },
    {
      "cell_type": "code",
      "metadata": {
        "id": "w4ttpoFGnVdT",
        "colab_type": "code",
        "outputId": "da900c15-bd1c-4a80-9cd3-ca95b62aaf0e",
        "colab": {
          "base_uri": "https://localhost:8080/",
          "height": 472
        }
      },
      "source": [
        "# go basic model to deep layer model\n",
        "\n",
        "# Network Architecture\n",
        "#   input -> conv -> conv ->  polling -> conv -> conv ->  polling ->  FC -> output\n",
        "#             16      16                   32     32                 512           \n",
        "\n",
        "model = Sequential()\n",
        "model.add(Conv2D(16, kernel_size=(3, 3),activation='relu',padding='same',input_shape=input_shape))\n",
        "model.add(Conv2D(16,(3, 3),activation='relu',padding='same'))\n",
        "model.add(MaxPooling2D(pool_size=(2, 2),strides=2))# for the location invariants\n",
        "\n",
        "model.add(Conv2D(32, (3,3), activation='relu'))\n",
        "model.add(Conv2D(32, (3,3), activation='relu'))\n",
        "model.add(MaxPooling2D(pool_size=(2, 2),strides=2))# for the location invariants\n",
        "\n",
        "model.add(Flatten())\n",
        "model.add(Dense(512, activation='relu'))\n",
        "model.add(Dense(num_classes, activation='softmax'))\n",
        "\n",
        "model.compile(loss=keras.losses.categorical_crossentropy,\n",
        "              optimizer=keras.optimizers.adam(),\n",
        "              metrics=['accuracy'])\n",
        "# this will train the model and validate the model in this  fit function\n",
        "model.summary()"
      ],
      "execution_count": 0,
      "outputs": [
        {
          "output_type": "stream",
          "text": [
            "_________________________________________________________________\n",
            "Layer (type)                 Output Shape              Param #   \n",
            "=================================================================\n",
            "conv2d_28 (Conv2D)           (None, 28, 28, 16)        160       \n",
            "_________________________________________________________________\n",
            "conv2d_29 (Conv2D)           (None, 28, 28, 16)        2320      \n",
            "_________________________________________________________________\n",
            "max_pooling2d_23 (MaxPooling (None, 14, 14, 16)        0         \n",
            "_________________________________________________________________\n",
            "conv2d_30 (Conv2D)           (None, 12, 12, 32)        4640      \n",
            "_________________________________________________________________\n",
            "conv2d_31 (Conv2D)           (None, 10, 10, 32)        9248      \n",
            "_________________________________________________________________\n",
            "max_pooling2d_24 (MaxPooling (None, 5, 5, 32)          0         \n",
            "_________________________________________________________________\n",
            "flatten_11 (Flatten)         (None, 800)               0         \n",
            "_________________________________________________________________\n",
            "dense_25 (Dense)             (None, 512)               410112    \n",
            "_________________________________________________________________\n",
            "dense_26 (Dense)             (None, 10)                5130      \n",
            "=================================================================\n",
            "Total params: 431,610\n",
            "Trainable params: 431,610\n",
            "Non-trainable params: 0\n",
            "_________________________________________________________________\n"
          ],
          "name": "stdout"
        }
      ]
    },
    {
      "cell_type": "code",
      "metadata": {
        "id": "c4Zxl0t_ov_9",
        "colab_type": "code",
        "outputId": "017cdc37-f297-43ad-b859-413d04833824",
        "colab": {
          "base_uri": "https://localhost:8080/",
          "height": 508
        }
      },
      "source": [
        "history=model.fit(x_train, y_train,\n",
        "          batch_size=batch_size,\n",
        "          epochs=epochs,\n",
        "          verbose=1,\n",
        "          validation_data=(x_test, y_test))\n",
        "score = model.evaluate(x_test, y_test, verbose=0)\n",
        "print('Test loss:', score[0])\n",
        "print('Test accuracy:', score[1])"
      ],
      "execution_count": 0,
      "outputs": [
        {
          "output_type": "stream",
          "text": [
            "Train on 60000 samples, validate on 10000 samples\n",
            "Epoch 1/12\n",
            "60000/60000 [==============================] - 100s 2ms/step - loss: 0.1714 - acc: 0.9478 - val_loss: 0.0400 - val_acc: 0.9876\n",
            "Epoch 2/12\n",
            "60000/60000 [==============================] - 99s 2ms/step - loss: 0.0471 - acc: 0.9851 - val_loss: 0.0358 - val_acc: 0.9892\n",
            "Epoch 3/12\n",
            "60000/60000 [==============================] - 98s 2ms/step - loss: 0.0298 - acc: 0.9908 - val_loss: 0.0254 - val_acc: 0.9914\n",
            "Epoch 4/12\n",
            "60000/60000 [==============================] - 99s 2ms/step - loss: 0.0213 - acc: 0.9934 - val_loss: 0.0289 - val_acc: 0.9897\n",
            "Epoch 5/12\n",
            "60000/60000 [==============================] - 99s 2ms/step - loss: 0.0177 - acc: 0.9941 - val_loss: 0.0344 - val_acc: 0.9894\n",
            "Epoch 6/12\n",
            "60000/60000 [==============================] - 98s 2ms/step - loss: 0.0151 - acc: 0.9950 - val_loss: 0.0302 - val_acc: 0.9901\n",
            "Epoch 7/12\n",
            "60000/60000 [==============================] - 99s 2ms/step - loss: 0.0120 - acc: 0.9958 - val_loss: 0.0331 - val_acc: 0.9910\n",
            "Epoch 8/12\n",
            "60000/60000 [==============================] - 98s 2ms/step - loss: 0.0099 - acc: 0.9967 - val_loss: 0.0263 - val_acc: 0.9926\n",
            "Epoch 9/12\n",
            "60000/60000 [==============================] - 98s 2ms/step - loss: 0.0084 - acc: 0.9973 - val_loss: 0.0259 - val_acc: 0.9924\n",
            "Epoch 10/12\n",
            "60000/60000 [==============================] - 99s 2ms/step - loss: 0.0078 - acc: 0.9974 - val_loss: 0.0329 - val_acc: 0.9909\n",
            "Epoch 11/12\n",
            "60000/60000 [==============================] - 98s 2ms/step - loss: 0.0063 - acc: 0.9978 - val_loss: 0.0326 - val_acc: 0.9911\n",
            "Epoch 12/12\n",
            "60000/60000 [==============================] - 98s 2ms/step - loss: 0.0067 - acc: 0.9979 - val_loss: 0.0333 - val_acc: 0.9921\n",
            "Test loss: 0.03328722507418738\n",
            "Test accuracy: 0.9921\n"
          ],
          "name": "stdout"
        }
      ]
    },
    {
      "cell_type": "code",
      "metadata": {
        "id": "hhSIWop8oydp",
        "colab_type": "code",
        "outputId": "3a3ea99a-9dd1-4980-cf95-3b69286fb161",
        "colab": {
          "base_uri": "https://localhost:8080/",
          "height": 411
        }
      },
      "source": [
        "score = model.evaluate(x_train, y_train, verbose=0)\n",
        "print('Train score:', score[0])\n",
        "print('Train accuracy:', score[1]*100)\n",
        "print('\\n************************ *********************\\n')\n",
        "#test accuracy\n",
        "score = model.evaluate(x_test, y_test, verbose=0)\n",
        "print('Test score:', score[0])\n",
        "print('Test accuracy:', score[1]*100)\n",
        "\n",
        "\n",
        "# plot\n",
        "fig,ax = plt.subplots(1,1)\n",
        "ax.set_xlabel('epoch');\n",
        "ax.set_ylabel('Categorical Crossentropy Loss')\n",
        "x = list(range(1,12+1)) \n",
        "vy = history.history['val_loss']\n",
        "ty = history.history['loss']\n",
        "plt_dynamic(x, vy, ty, ax)"
      ],
      "execution_count": 0,
      "outputs": [
        {
          "output_type": "stream",
          "text": [
            "Train score: 0.005588248573328292\n",
            "Train accuracy: 99.81833333333333\n",
            "\n",
            "************************ *********************\n",
            "\n",
            "Test score: 0.03328722507418738\n",
            "Test accuracy: 99.21\n"
          ],
          "name": "stdout"
        },
        {
          "output_type": "display_data",
          "data": {
            "image/png": "[encoded data removed]",
            "text/plain": [
              "<Figure size 432x288 with 1 Axes>"
            ]
          },
          "metadata": {
            "tags": []
          }
        }
      ]
    },
    {
      "cell_type": "markdown",
      "metadata": {
        "id": "xSNAcD1hxPce",
        "colab_type": "text"
      },
      "source": [
        "# Same models with Dropouts, i want to see the effect "
      ]
    },
    {
      "cell_type": "markdown",
      "metadata": {
        "id": "lDQgkyORwJJ9",
        "colab_type": "text"
      },
      "source": [
        "**Model 1->     2 conv + 2  maxpoll+ 3 dense layer +Dropout**\n",
        "\n",
        "---\n"
      ]
    },
    {
      "cell_type": "code",
      "metadata": {
        "id": "RThEjbt0wajf",
        "colab_type": "code",
        "outputId": "765d2682-883a-41a7-8b71-8ba3fc3a8104",
        "colab": {
          "base_uri": "https://localhost:8080/",
          "height": 507
        }
      },
      "source": [
        "\n",
        "# In this (First Model) lets follow the general structure of the lenet    we will make a simple model\n",
        "\n",
        "# Network Architecture\n",
        "#   input -> conv -> polling -> conv -> polling ->droupout-> FC -> FC -> output\n",
        "#             8                  16               120    84     10\n",
        "model = Sequential()\n",
        "model.add(Conv2D(8, kernel_size=(3, 3),activation='relu',padding='same',input_shape=input_shape))\n",
        "model.add(MaxPooling2D(pool_size=(2, 2),strides=2))# for the location invariants\n",
        "\n",
        "model.add(Conv2D(16, (5, 5), activation='relu'))\n",
        "model.add(MaxPooling2D(pool_size=(2, 2),strides=2))# for the location invariants\n",
        "\n",
        "model.add(Dropout(0.5))\n",
        "\n",
        "model.add(Flatten())\n",
        "model.add(Dense(120, activation='relu'))\n",
        "model.add(Dense(84, activation='relu'))\n",
        "model.add(Dense(num_classes, activation='softmax'))\n",
        "\n",
        "model.compile(loss=keras.losses.categorical_crossentropy,\n",
        "              optimizer=keras.optimizers.adam(),\n",
        "              metrics=['accuracy'])\n",
        "# this will train the model and validate the model in this  fit function\n",
        "model.summary()"
      ],
      "execution_count": 4,
      "outputs": [
        {
          "output_type": "stream",
          "text": [
            "WARNING:tensorflow:From /usr/local/lib/python3.6/dist-packages/keras/backend/tensorflow_backend.py:3445: calling dropout (from tensorflow.python.ops.nn_ops) with keep_prob is deprecated and will be removed in a future version.\n",
            "Instructions for updating:\n",
            "Please use `rate` instead of `keep_prob`. Rate should be set to `rate = 1 - keep_prob`.\n",
            "_________________________________________________________________\n",
            "Layer (type)                 Output Shape              Param #   \n",
            "=================================================================\n",
            "conv2d_3 (Conv2D)            (None, 28, 28, 8)         80        \n",
            "_________________________________________________________________\n",
            "max_pooling2d_3 (MaxPooling2 (None, 14, 14, 8)         0         \n",
            "_________________________________________________________________\n",
            "conv2d_4 (Conv2D)            (None, 10, 10, 16)        3216      \n",
            "_________________________________________________________________\n",
            "max_pooling2d_4 (MaxPooling2 (None, 5, 5, 16)          0         \n",
            "_________________________________________________________________\n",
            "dropout_1 (Dropout)          (None, 5, 5, 16)          0         \n",
            "_________________________________________________________________\n",
            "flatten_2 (Flatten)          (None, 400)               0         \n",
            "_________________________________________________________________\n",
            "dense_4 (Dense)              (None, 120)               48120     \n",
            "_________________________________________________________________\n",
            "dense_5 (Dense)              (None, 84)                10164     \n",
            "_________________________________________________________________\n",
            "dense_6 (Dense)              (None, 10)                850       \n",
            "=================================================================\n",
            "Total params: 62,430\n",
            "Trainable params: 62,430\n",
            "Non-trainable params: 0\n",
            "_________________________________________________________________\n"
          ],
          "name": "stdout"
        }
      ]
    },
    {
      "cell_type": "code",
      "metadata": {
        "id": "BoEzPDH_w6e2",
        "colab_type": "code",
        "outputId": "a7dc035d-3397-4365-a529-9db8290fb219",
        "colab": {
          "base_uri": "https://localhost:8080/",
          "height": 521
        }
      },
      "source": [
        "history=model.fit(x_train, y_train,\n",
        "          batch_size=batch_size,\n",
        "          epochs=epochs,\n",
        "          verbose=1,\n",
        "          validation_data=(x_test, y_test))\n",
        "score = model.evaluate(x_test, y_test, verbose=0)\n",
        "print('Test loss:', score[0])\n",
        "print('Test accuracy:', score[1])"
      ],
      "execution_count": 5,
      "outputs": [
        {
          "output_type": "stream",
          "text": [
            "WARNING:tensorflow:From /usr/local/lib/python3.6/dist-packages/tensorflow/python/ops/math_ops.py:3066: to_int32 (from tensorflow.python.ops.math_ops) is deprecated and will be removed in a future version.\n",
            "Instructions for updating:\n",
            "Use tf.cast instead.\n",
            "Train on 60000 samples, validate on 10000 samples\n",
            "Epoch 1/12\n",
            "60000/60000 [==============================] - 8s 134us/step - loss: 0.4000 - acc: 0.8737 - val_loss: 0.0844 - val_acc: 0.9739\n",
            "Epoch 2/12\n",
            "60000/60000 [==============================] - 2s 40us/step - loss: 0.1352 - acc: 0.9576 - val_loss: 0.0550 - val_acc: 0.9815\n",
            "Epoch 3/12\n",
            "60000/60000 [==============================] - 2s 38us/step - loss: 0.1029 - acc: 0.9675 - val_loss: 0.0429 - val_acc: 0.9875\n",
            "Epoch 4/12\n",
            "60000/60000 [==============================] - 2s 38us/step - loss: 0.0857 - acc: 0.9729 - val_loss: 0.0424 - val_acc: 0.9858\n",
            "Epoch 5/12\n",
            "60000/60000 [==============================] - 2s 38us/step - loss: 0.0779 - acc: 0.9757 - val_loss: 0.0338 - val_acc: 0.9889\n",
            "Epoch 6/12\n",
            "60000/60000 [==============================] - 2s 39us/step - loss: 0.0721 - acc: 0.9775 - val_loss: 0.0338 - val_acc: 0.9887\n",
            "Epoch 7/12\n",
            "60000/60000 [==============================] - 2s 41us/step - loss: 0.0646 - acc: 0.9798 - val_loss: 0.0288 - val_acc: 0.9895\n",
            "Epoch 8/12\n",
            "60000/60000 [==============================] - 3s 44us/step - loss: 0.0608 - acc: 0.9803 - val_loss: 0.0295 - val_acc: 0.9898\n",
            "Epoch 9/12\n",
            "60000/60000 [==============================] - 3s 44us/step - loss: 0.0585 - acc: 0.9812 - val_loss: 0.0261 - val_acc: 0.9908\n",
            "Epoch 10/12\n",
            "60000/60000 [==============================] - 3s 44us/step - loss: 0.0540 - acc: 0.9826 - val_loss: 0.0248 - val_acc: 0.9918\n",
            "Epoch 11/12\n",
            "60000/60000 [==============================] - 2s 40us/step - loss: 0.0520 - acc: 0.9837 - val_loss: 0.0280 - val_acc: 0.9911\n",
            "Epoch 12/12\n",
            "60000/60000 [==============================] - 2s 39us/step - loss: 0.0504 - acc: 0.9838 - val_loss: 0.0272 - val_acc: 0.9908\n",
            "Test loss: 0.02720839965075138\n",
            "Test accuracy: 0.9908\n"
          ],
          "name": "stdout"
        }
      ]
    },
    {
      "cell_type": "code",
      "metadata": {
        "id": "Lw3jyZ1Rw-j6",
        "colab_type": "code",
        "outputId": "c9cf9d18-1b94-433d-93e5-0d939247182f",
        "colab": {
          "base_uri": "https://localhost:8080/",
          "height": 401
        }
      },
      "source": [
        "score = model.evaluate(x_train, y_train, verbose=0)\n",
        "print('Train score:', score[0])\n",
        "print('Train accuracy:', score[1]*100)\n",
        "print('\\n************************ *********************\\n')\n",
        "#test accuracy\n",
        "score = model.evaluate(x_test, y_test, verbose=0)\n",
        "print('Test score:', score[0])\n",
        "print('Test accuracy:', score[1]*100)\n",
        "\n",
        "\n",
        "\n",
        "\n",
        "\n",
        "# plot\n",
        "fig,ax = plt.subplots(1,1)\n",
        "ax.set_xlabel('epoch');\n",
        "ax.set_ylabel('Categorical Crossentropy Loss')\n",
        "x = list(range(1,12+1)) \n",
        "vy = history.history['val_loss']\n",
        "ty = history.history['loss']\n",
        "plt_dynamic(x, vy, ty, ax)"
      ],
      "execution_count": 6,
      "outputs": [
        {
          "output_type": "stream",
          "text": [
            "Train score: 0.01824285580939807\n",
            "Train accuracy: 99.42999999999999\n",
            "\n",
            "************************ *********************\n",
            "\n",
            "Test score: 0.02720839965075138\n",
            "Test accuracy: 99.08\n"
          ],
          "name": "stdout"
        },
        {
          "output_type": "display_data",
          "data": {
            "image/png": "[encoded data removed]",
            "text/plain": [
              "<Figure size 432x288 with 1 Axes>"
            ]
          },
          "metadata": {
            "tags": []
          }
        }
      ]
    },
    {
      "cell_type": "markdown",
      "metadata": {
        "id": "YWKWuws3xF2x",
        "colab_type": "text"
      },
      "source": [
        "**Model 2->     3 conv + 3  maxpoll+ 2 dense layers + Dropout**\n",
        "\n",
        "---"
      ]
    },
    {
      "cell_type": "code",
      "metadata": {
        "id": "6eCNdfHuxAXk",
        "colab_type": "code",
        "outputId": "3af9a982-0049-4219-b477-ee40563caafb",
        "colab": {
          "base_uri": "https://localhost:8080/",
          "height": 470
        }
      },
      "source": [
        "# go basic model to deep layer model\n",
        "\n",
        "# Network Architecture\n",
        "#   input -> conv -> polling -> conv -> polling -> conv -> polling ->dropout->  FC -> output\n",
        "#             8                  32               128                   64\n",
        "model = Sequential()\n",
        "model.add(Conv2D(32, kernel_size=(3, 3),activation='relu',input_shape=input_shape))\n",
        "model.add(MaxPooling2D(pool_size=(2, 2),strides=2))# for the location invariants\n",
        "\n",
        "model.add(Conv2D(64, (3,3), activation='relu'))\n",
        "model.add(MaxPooling2D(pool_size=(2, 2),strides=2))# for the location invariants\n",
        "\n",
        "model.add(Conv2D(128, (3, 3), activation='relu'))\n",
        "model.add(MaxPooling2D(pool_size=(2, 2),strides=2))# for the location invariants\n",
        "\n",
        "model.add(Dropout(0.9))\n",
        "\n",
        "model.add(Flatten())\n",
        "model.add(Dense(64, activation='relu'))\n",
        "model.add(Dense(num_classes, activation='softmax'))\n",
        "\n",
        "model.compile(loss=keras.losses.categorical_crossentropy,\n",
        "              optimizer=keras.optimizers.adam(),\n",
        "              metrics=['accuracy'])\n",
        "# this will train the model and validate the model in this  fit function\n",
        "model.summary()"
      ],
      "execution_count": 7,
      "outputs": [
        {
          "output_type": "stream",
          "text": [
            "_________________________________________________________________\n",
            "Layer (type)                 Output Shape              Param #   \n",
            "=================================================================\n",
            "conv2d_5 (Conv2D)            (None, 26, 26, 32)        320       \n",
            "_________________________________________________________________\n",
            "max_pooling2d_5 (MaxPooling2 (None, 13, 13, 32)        0         \n",
            "_________________________________________________________________\n",
            "conv2d_6 (Conv2D)            (None, 11, 11, 64)        18496     \n",
            "_________________________________________________________________\n",
            "max_pooling2d_6 (MaxPooling2 (None, 5, 5, 64)          0         \n",
            "_________________________________________________________________\n",
            "conv2d_7 (Conv2D)            (None, 3, 3, 128)         73856     \n",
            "_________________________________________________________________\n",
            "max_pooling2d_7 (MaxPooling2 (None, 1, 1, 128)         0         \n",
            "_________________________________________________________________\n",
            "dropout_2 (Dropout)          (None, 1, 1, 128)         0         \n",
            "_________________________________________________________________\n",
            "flatten_3 (Flatten)          (None, 128)               0         \n",
            "_________________________________________________________________\n",
            "dense_7 (Dense)              (None, 64)                8256      \n",
            "_________________________________________________________________\n",
            "dense_8 (Dense)              (None, 10)                650       \n",
            "=================================================================\n",
            "Total params: 101,578\n",
            "Trainable params: 101,578\n",
            "Non-trainable params: 0\n",
            "_________________________________________________________________\n"
          ],
          "name": "stdout"
        }
      ]
    },
    {
      "cell_type": "code",
      "metadata": {
        "id": "nS0qjHLfxi7w",
        "colab_type": "code",
        "outputId": "39e83de1-bb93-4dc9-d646-b46ec4f89279",
        "colab": {
          "base_uri": "https://localhost:8080/",
          "height": 470
        }
      },
      "source": [
        "history=model.fit(x_train, y_train,\n",
        "          batch_size=batch_size,\n",
        "          epochs=epochs,\n",
        "          verbose=1,\n",
        "          validation_data=(x_test, y_test))\n",
        "score = model.evaluate(x_test, y_test, verbose=0)\n",
        "print('Test loss:', score[0])\n",
        "print('Test accuracy:', score[1])"
      ],
      "execution_count": 8,
      "outputs": [
        {
          "output_type": "stream",
          "text": [
            "Train on 60000 samples, validate on 10000 samples\n",
            "Epoch 1/12\n",
            "60000/60000 [==============================] - 3s 58us/step - loss: 1.3762 - acc: 0.4850 - val_loss: 0.3159 - val_acc: 0.9382\n",
            "Epoch 2/12\n",
            "60000/60000 [==============================] - 3s 47us/step - loss: 0.8758 - acc: 0.6665 - val_loss: 0.2060 - val_acc: 0.9602\n",
            "Epoch 3/12\n",
            "60000/60000 [==============================] - 3s 47us/step - loss: 0.7378 - acc: 0.7234 - val_loss: 0.1454 - val_acc: 0.9671\n",
            "Epoch 4/12\n",
            "60000/60000 [==============================] - 3s 47us/step - loss: 0.6494 - acc: 0.7607 - val_loss: 0.1163 - val_acc: 0.9691\n",
            "Epoch 5/12\n",
            "60000/60000 [==============================] - 3s 47us/step - loss: 0.5928 - acc: 0.7838 - val_loss: 0.1091 - val_acc: 0.9707\n",
            "Epoch 6/12\n",
            "60000/60000 [==============================] - 3s 47us/step - loss: 0.5455 - acc: 0.8014 - val_loss: 0.1014 - val_acc: 0.9726\n",
            "Epoch 7/12\n",
            "60000/60000 [==============================] - 3s 47us/step - loss: 0.5166 - acc: 0.8150 - val_loss: 0.0872 - val_acc: 0.9752\n",
            "Epoch 8/12\n",
            "60000/60000 [==============================] - 3s 47us/step - loss: 0.4803 - acc: 0.8275 - val_loss: 0.0849 - val_acc: 0.9765\n",
            "Epoch 9/12\n",
            "60000/60000 [==============================] - 3s 47us/step - loss: 0.4567 - acc: 0.8403 - val_loss: 0.0881 - val_acc: 0.9758\n",
            "Epoch 10/12\n",
            "60000/60000 [==============================] - 3s 47us/step - loss: 0.4477 - acc: 0.8432 - val_loss: 0.0876 - val_acc: 0.9759\n",
            "Epoch 11/12\n",
            "60000/60000 [==============================] - 3s 51us/step - loss: 0.4146 - acc: 0.8582 - val_loss: 0.0868 - val_acc: 0.9769\n",
            "Epoch 12/12\n",
            "60000/60000 [==============================] - 3s 52us/step - loss: 0.4000 - acc: 0.8653 - val_loss: 0.0762 - val_acc: 0.9793\n",
            "Test loss: 0.07615174515843391\n",
            "Test accuracy: 0.9793\n"
          ],
          "name": "stdout"
        }
      ]
    },
    {
      "cell_type": "code",
      "metadata": {
        "id": "bqim8S_yxjMg",
        "colab_type": "code",
        "outputId": "e7180687-fe92-4cd7-fbbd-c4b82231f565",
        "colab": {
          "base_uri": "https://localhost:8080/",
          "height": 401
        }
      },
      "source": [
        "score = model.evaluate(x_train, y_train, verbose=0)\n",
        "print('Train score:', score[0])\n",
        "print('Train accuracy:', score[1]*100)\n",
        "print('\\n************************ *********************\\n')\n",
        "#test accuracy\n",
        "score = model.evaluate(x_test, y_test, verbose=0)\n",
        "print('Test score:', score[0])\n",
        "print('Test accuracy:', score[1]*100)\n",
        "\n",
        "\n",
        "# plot\n",
        "fig,ax = plt.subplots(1,1)\n",
        "ax.set_xlabel('epoch');\n",
        "ax.set_ylabel('Categorical Crossentropy Loss')\n",
        "x = list(range(1,12+1)) \n",
        "vy = history.history['val_loss']\n",
        "ty = history.history['loss']\n",
        "plt_dynamic(x, vy, ty, ax)"
      ],
      "execution_count": 9,
      "outputs": [
        {
          "output_type": "stream",
          "text": [
            "Train score: 0.07137520205164329\n",
            "Train accuracy: 98.09\n",
            "\n",
            "************************ *********************\n",
            "\n",
            "Test score: 0.07615174515843391\n",
            "Test accuracy: 97.92999999999999\n"
          ],
          "name": "stdout"
        },
        {
          "output_type": "display_data",
          "data": {
            "image/png": "[encoded data removed]",
            "text/plain": [
              "<Figure size 432x288 with 1 Axes>"
            ]
          },
          "metadata": {
            "tags": []
          }
        }
      ]
    },
    {
      "cell_type": "markdown",
      "metadata": {
        "id": "sdxFPisrxord",
        "colab_type": "text"
      },
      "source": [
        "**Model 3->     4 conv + 2  maxpoll+ 2 dense layers + Dropout**\n",
        "\n",
        "---"
      ]
    },
    {
      "cell_type": "code",
      "metadata": {
        "id": "2u4mtGUQxzqZ",
        "colab_type": "code",
        "outputId": "4ecc754b-5a99-4bb9-bd90-5ecea88442ee",
        "colab": {
          "base_uri": "https://localhost:8080/",
          "height": 470
        }
      },
      "source": [
        "# go basic model to deep layer model\n",
        "\n",
        "# Network Architecture\n",
        "#   input -> conv -> conv ->  polling -> conv -> conv ->  polling ->dropout->  FC -> output\n",
        "#             16      16                   32     32                 512           \n",
        "\n",
        "model = Sequential()\n",
        "model.add(Conv2D(16, kernel_size=(3, 3),activation='relu',padding='same',input_shape=input_shape))\n",
        "model.add(Conv2D(16,(3, 3),activation='relu',padding='same'))\n",
        "model.add(MaxPooling2D(pool_size=(2, 2),strides=2))# for the location invariants\n",
        "\n",
        "model.add(Conv2D(32, (3,3), activation='relu'))\n",
        "model.add(Conv2D(32, (3,3), activation='relu'))\n",
        "model.add(MaxPooling2D(pool_size=(2, 2),strides=2))# for the location invariants\n",
        "\n",
        "model.add(Dropout(0.3))\n",
        "\n",
        "model.add(Flatten())\n",
        "model.add(Dense(512, activation='relu'))\n",
        "model.add(Dense(num_classes, activation='softmax'))\n",
        "\n",
        "model.compile(loss=keras.losses.categorical_crossentropy,\n",
        "              optimizer=keras.optimizers.adam(),\n",
        "              metrics=['accuracy'])\n",
        "# this will train the model and validate the model in this  fit function\n",
        "model.summary()"
      ],
      "execution_count": 10,
      "outputs": [
        {
          "output_type": "stream",
          "text": [
            "_________________________________________________________________\n",
            "Layer (type)                 Output Shape              Param #   \n",
            "=================================================================\n",
            "conv2d_8 (Conv2D)            (None, 28, 28, 16)        160       \n",
            "_________________________________________________________________\n",
            "conv2d_9 (Conv2D)            (None, 28, 28, 16)        2320      \n",
            "_________________________________________________________________\n",
            "max_pooling2d_8 (MaxPooling2 (None, 14, 14, 16)        0         \n",
            "_________________________________________________________________\n",
            "conv2d_10 (Conv2D)           (None, 12, 12, 32)        4640      \n",
            "_________________________________________________________________\n",
            "conv2d_11 (Conv2D)           (None, 10, 10, 32)        9248      \n",
            "_________________________________________________________________\n",
            "max_pooling2d_9 (MaxPooling2 (None, 5, 5, 32)          0         \n",
            "_________________________________________________________________\n",
            "dropout_3 (Dropout)          (None, 5, 5, 32)          0         \n",
            "_________________________________________________________________\n",
            "flatten_4 (Flatten)          (None, 800)               0         \n",
            "_________________________________________________________________\n",
            "dense_9 (Dense)              (None, 512)               410112    \n",
            "_________________________________________________________________\n",
            "dense_10 (Dense)             (None, 10)                5130      \n",
            "=================================================================\n",
            "Total params: 431,610\n",
            "Trainable params: 431,610\n",
            "Non-trainable params: 0\n",
            "_________________________________________________________________\n"
          ],
          "name": "stdout"
        }
      ]
    },
    {
      "cell_type": "code",
      "metadata": {
        "id": "uehj9RTsxzmi",
        "colab_type": "code",
        "outputId": "864b5133-d2fd-439c-e7bd-078d22f61767",
        "colab": {
          "base_uri": "https://localhost:8080/",
          "height": 470
        }
      },
      "source": [
        "history=model.fit(x_train, y_train,\n",
        "          batch_size=batch_size,\n",
        "          epochs=epochs,\n",
        "          verbose=1,\n",
        "          validation_data=(x_test, y_test))\n",
        "score = model.evaluate(x_test, y_test, verbose=0)\n",
        "print('Test loss:', score[0])\n",
        "print('Test accuracy:', score[1])"
      ],
      "execution_count": 11,
      "outputs": [
        {
          "output_type": "stream",
          "text": [
            "Train on 60000 samples, validate on 10000 samples\n",
            "Epoch 1/12\n",
            "60000/60000 [==============================] - 4s 64us/step - loss: 0.2060 - acc: 0.9369 - val_loss: 0.0513 - val_acc: 0.9816\n",
            "Epoch 2/12\n",
            "60000/60000 [==============================] - 3s 52us/step - loss: 0.0622 - acc: 0.9807 - val_loss: 0.0345 - val_acc: 0.9889\n",
            "Epoch 3/12\n",
            "60000/60000 [==============================] - 3s 51us/step - loss: 0.0441 - acc: 0.9860 - val_loss: 0.0311 - val_acc: 0.9897\n",
            "Epoch 4/12\n",
            "60000/60000 [==============================] - 3s 51us/step - loss: 0.0346 - acc: 0.9895 - val_loss: 0.0211 - val_acc: 0.9918\n",
            "Epoch 5/12\n",
            "60000/60000 [==============================] - 3s 51us/step - loss: 0.0287 - acc: 0.9912 - val_loss: 0.0235 - val_acc: 0.9926\n",
            "Epoch 6/12\n",
            "60000/60000 [==============================] - 3s 51us/step - loss: 0.0256 - acc: 0.9916 - val_loss: 0.0211 - val_acc: 0.9924\n",
            "Epoch 7/12\n",
            "60000/60000 [==============================] - 3s 51us/step - loss: 0.0216 - acc: 0.9930 - val_loss: 0.0261 - val_acc: 0.9920\n",
            "Epoch 8/12\n",
            "60000/60000 [==============================] - 3s 51us/step - loss: 0.0182 - acc: 0.9941 - val_loss: 0.0270 - val_acc: 0.9918\n",
            "Epoch 9/12\n",
            "60000/60000 [==============================] - 3s 51us/step - loss: 0.0174 - acc: 0.9944 - val_loss: 0.0214 - val_acc: 0.9934\n",
            "Epoch 10/12\n",
            "60000/60000 [==============================] - 3s 51us/step - loss: 0.0158 - acc: 0.9949 - val_loss: 0.0205 - val_acc: 0.9934\n",
            "Epoch 11/12\n",
            "60000/60000 [==============================] - 3s 51us/step - loss: 0.0141 - acc: 0.9953 - val_loss: 0.0228 - val_acc: 0.9928\n",
            "Epoch 12/12\n",
            "60000/60000 [==============================] - 3s 51us/step - loss: 0.0117 - acc: 0.9963 - val_loss: 0.0242 - val_acc: 0.9937\n",
            "Test loss: 0.02418117125566155\n",
            "Test accuracy: 0.9937\n"
          ],
          "name": "stdout"
        }
      ]
    },
    {
      "cell_type": "code",
      "metadata": {
        "id": "2oJPCI-Lxzfi",
        "colab_type": "code",
        "outputId": "6e51e39d-4f98-439c-f5fd-7d48d05841fb",
        "colab": {
          "base_uri": "https://localhost:8080/",
          "height": 401
        }
      },
      "source": [
        "score = model.evaluate(x_train, y_train, verbose=0)\n",
        "print('Train score:', score[0])\n",
        "print('Train accuracy:', score[1]*100)\n",
        "print('\\n************************ *********************\\n')\n",
        "#test accuracy\n",
        "score = model.evaluate(x_test, y_test, verbose=0)\n",
        "print('Test score:', score[0])\n",
        "print('Test accuracy:', score[1]*100)\n",
        "\n",
        "# plot\n",
        "fig,ax = plt.subplots(1,1)\n",
        "ax.set_xlabel('epoch');\n",
        "ax.set_ylabel('Categorical Crossentropy Loss')\n",
        "x = list(range(1,12+1)) \n",
        "vy = history.history['val_loss']\n",
        "ty = history.history['loss']\n",
        "plt_dynamic(x, vy, ty, ax)"
      ],
      "execution_count": 12,
      "outputs": [
        {
          "output_type": "stream",
          "text": [
            "Train score: 0.003999881712113999\n",
            "Train accuracy: 99.87333333333333\n",
            "\n",
            "************************ *********************\n",
            "\n",
            "Test score: 0.02418117125566155\n",
            "Test accuracy: 99.37\n"
          ],
          "name": "stdout"
        },
        {
          "output_type": "display_data",
          "data": {
            "image/png": "[encoded data removed]",
            "text/plain": [
              "<Figure size 432x288 with 1 Axes>"
            ]
          },
          "metadata": {
            "tags": []
          }
        }
      ]
    },
    {
      "cell_type": "markdown",
      "metadata": {
        "id": "4dLZLcRGVb-o",
        "colab_type": "text"
      },
      "source": [
        "# Compare the  model results"
      ]
    },
    {
      "cell_type": "code",
      "metadata": {
        "id": "evRwnmyzuVdv",
        "colab_type": "code",
        "outputId": "dea2407d-dfad-42c0-b6ba-774aaf250d90",
        "colab": {
          "base_uri": "https://localhost:8080/",
          "height": 185
        }
      },
      "source": [
        "from prettytable import PrettyTable\n",
        "tb = PrettyTable()\n",
        "tb.field_names= (\"conv_layers\", \"MAxPoll_layers\", \"Dense_layers\",\"Dropout\",\"Accuracy\")\n",
        "tb.add_row([\"2\", \"2\",\"2\",\"NO\",98.95])\n",
        "tb.add_row([\"3\", \"3\",\"1\",\"NO\",98.98])\n",
        "tb.add_row([\"4\", \"2\",\"1\",\"NO\",99.21])\n",
        "\n",
        "\n",
        "tb.add_row([\"2\", \"2\",\"2\",\"0.5\",99.08])\n",
        "tb.add_row([\"3\", \"3\",\"1\",\"0.9\",97.92])\n",
        "tb.add_row([\"4\", \"2\",\"1\",\"0.3\",99.37])\n",
        "print(tb.get_string(titles = \"CNN Models - Observations\"))"
      ],
      "execution_count": 15,
      "outputs": [
        {
          "output_type": "stream",
          "text": [
            "+-------------+----------------+--------------+---------+----------+\n",
            "| conv_layers | MAxPoll_layers | Dense_layers | Dropout | Accuracy |\n",
            "+-------------+----------------+--------------+---------+----------+\n",
            "|      2      |       2        |      2       |    NO   |  98.95   |\n",
            "|      3      |       3        |      1       |    NO   |  98.98   |\n",
            "|      4      |       2        |      1       |    NO   |  99.21   |\n",
            "|      2      |       2        |      2       |   0.5   |  99.08   |\n",
            "|      3      |       3        |      1       |   0.9   |  97.92   |\n",
            "|      4      |       2        |      1       |   0.3   |  99.37   |\n",
            "+-------------+----------------+--------------+---------+----------+\n"
          ],
          "name": "stdout"
        }
      ]
    },
    {
      "cell_type": "code",
      "metadata": {
        "id": "mRR7QmYtmh_Y",
        "colab_type": "code",
        "colab": {}
      },
      "source": [
        ""
      ],
      "execution_count": 0,
      "outputs": []
    }
  ]
}